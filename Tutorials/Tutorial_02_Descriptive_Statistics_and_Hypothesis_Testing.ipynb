{
 "cells": [
  {
   "cell_type": "markdown",
   "metadata": {
    "id": "HcwePvKpw6-3"
   },
   "source": [
    "# Tutorial 2 (Week 2) - Descriptive Statistics and Hypothesis Testing\n",
    "\n",
    "## Learning Objectives\n",
    "\n",
    "After completing this tutorial, you should be able to:\n",
    "\n",
    "+ Manipulate NumPy and Pandas data structures for statistics computation\n",
    "  + Group the dataset by variable values\n",
    "  + Filter the dataset for specific variable values\n",
    "+ Compute descriptive statistics for a dataset\n",
    "  + Compute statistics on arrays, Series, and DataFrame\n",
    "  + Apply statistical measures for decision making\n",
    "+ Fit a probability distribution to a dataset and estimate the parameters using SciPy\n",
    "+ Perform hypothesis testing using SciPy"
   ]
  },
  {
   "cell_type": "markdown",
   "metadata": {
    "id": "--SWM-0gj8MA"
   },
   "source": [
    "# Preface: Handling Data in Pandas and NumPy\n",
    "\n",
    "In Tutorial 1, we have used Pandas DataFrames and NumPy arrays in creating visualizations. We will now look at these data structures in more details so that we can perform more advanced operations with our data.\n",
    "\n",
    "_Tips:_ Throughout the tutorial, we will encounter various functions and properties in Pandas and NumPy. It is recommended that you make it a habit to look up the documentation (API reference and usage examples) of those you are not yet familiar with. This way, you form a better understanding of how you can use them in future, beyond the example problems in this tutorial.\n",
    "\n",
    "In Jupyter Notebook, the references are conveniently linked under the `Help` menu."
   ]
  },
  {
   "cell_type": "code",
   "execution_count": 4,
   "metadata": {},
   "outputs": [],
   "source": [
    "import numpy as np\n",
    "import pandas as pd"
   ]
  },
  {
   "cell_type": "markdown",
   "metadata": {
    "id": "--SWM-0gj8MA"
   },
   "source": [
    "## NumPy Arrays\n",
    "\n",
    "NumPy is a fundamental package for scientific computing in Python. The main object in NumPy is `ndarray`, also known by the alias `array`. \n",
    "\n",
    "Numpy `array` is a table of elements (usually numbers), which is:\n",
    "- _Homogeneous_: elements are all of the same type;\n",
    "- _Multi-dimensional_: elements can be arranged into more than one __axes__;\n",
    "- _Indexed_: elements are addressable by a tuple of integers, one on each axis.\n",
    "\n",
    "The following image ([source](https://predictivehacks.com/tips-about-numpy-arrays/)) illustrates the array structure.\n",
    "\n",
    "<img src=\"https://predictivehacks.com/wp-content/uploads/2020/08/numpy_arrays-1024x572.png\" width=\"500\">\n",
    "\n",
    "Note that `numpy.array` is not the same as the Standard Python Library class `array.array`, which only handles one-dimensional arrays.\n",
    "\n",
    "Sample basic operations on numpy arrays are given below. Try running the codes and make sure you understand the output. You can go to [NumPy quickstart](https://numpy.org/doc/stable/user/quickstart.html) for more examples and practice.\n",
    "\n",
    "There are various ways to __create arrays__."
   ]
  },
  {
   "cell_type": "code",
   "execution_count": 5,
   "metadata": {},
   "outputs": [
    {
     "data": {
      "text/plain": [
       "array([[[ 0,  1],\n",
       "        [ 2,  3],\n",
       "        [ 4,  5]],\n",
       "\n",
       "       [[ 6,  7],\n",
       "        [ 8,  9],\n",
       "        [10, 11]],\n",
       "\n",
       "       [[12, 13],\n",
       "        [14, 15],\n",
       "        [16, 17]],\n",
       "\n",
       "       [[18, 19],\n",
       "        [20, 21],\n",
       "        [22, 23]]])"
      ]
     },
     "execution_count": 5,
     "metadata": {},
     "output_type": "execute_result"
    }
   ],
   "source": [
    "# One of many ways to create an array\n",
    "a = np.arange(24).reshape(4, 3, 2)\n",
    "a"
   ]
  },
  {
   "cell_type": "markdown",
   "metadata": {},
   "source": [
    "Take note of the array notation, and compare the above array display with the conceptual illustration to understand how it is represented in NumPy.\n",
    "\n",
    "Some __properties:__"
   ]
  },
  {
   "cell_type": "code",
   "execution_count": 6,
   "metadata": {},
   "outputs": [
    {
     "data": {
      "text/plain": [
       "(4, 3, 2)"
      ]
     },
     "execution_count": 6,
     "metadata": {},
     "output_type": "execute_result"
    }
   ],
   "source": [
    "a.shape"
   ]
  },
  {
   "cell_type": "code",
   "execution_count": 7,
   "metadata": {},
   "outputs": [
    {
     "data": {
      "text/plain": [
       "3"
      ]
     },
     "execution_count": 7,
     "metadata": {},
     "output_type": "execute_result"
    }
   ],
   "source": [
    "a.ndim"
   ]
  },
  {
   "cell_type": "code",
   "execution_count": 8,
   "metadata": {},
   "outputs": [
    {
     "data": {
      "text/plain": [
       "24"
      ]
     },
     "execution_count": 8,
     "metadata": {},
     "output_type": "execute_result"
    }
   ],
   "source": [
    "a.size"
   ]
  },
  {
   "cell_type": "markdown",
   "metadata": {},
   "source": [
    "There are several methods to create arrays with __initialed content__."
   ]
  },
  {
   "cell_type": "code",
   "execution_count": 9,
   "metadata": {},
   "outputs": [
    {
     "data": {
      "text/plain": [
       "array([[0., 0., 0., 0., 0.],\n",
       "       [0., 0., 0., 0., 0.],\n",
       "       [0., 0., 0., 0., 0.]])"
      ]
     },
     "execution_count": 9,
     "metadata": {},
     "output_type": "execute_result"
    }
   ],
   "source": [
    "np.zeros( (3,5) )"
   ]
  },
  {
   "cell_type": "code",
   "execution_count": 10,
   "metadata": {},
   "outputs": [
    {
     "data": {
      "text/plain": [
       "array([[0.25, 0.25, 0.25, 0.25, 0.25],\n",
       "       [0.25, 0.25, 0.25, 0.25, 0.25],\n",
       "       [0.25, 0.25, 0.25, 0.25, 0.25]])"
      ]
     },
     "execution_count": 10,
     "metadata": {},
     "output_type": "execute_result"
    }
   ],
   "source": [
    "np.full( (3,5), 0.25 )"
   ]
  },
  {
   "cell_type": "code",
   "execution_count": 11,
   "metadata": {},
   "outputs": [
    {
     "data": {
      "text/plain": [
       "array([[0.6304375 , 0.17375883, 0.56747675, 0.97798538, 0.78691771],\n",
       "       [0.33301194, 0.72181668, 0.52807851, 0.01825272, 0.09693817],\n",
       "       [0.20037102, 0.81150814, 0.23616869, 0.58999423, 0.81749584]])"
      ]
     },
     "execution_count": 11,
     "metadata": {},
     "output_type": "execute_result"
    }
   ],
   "source": [
    "np.random.rand( 3, 5 )"
   ]
  },
  {
   "cell_type": "markdown",
   "metadata": {},
   "source": [
    "__Indexing__ operation retrieves the array element at `index`. For multi-dimensional arrays, `index` is a comma-separated tuple with one component for each axis. A negative component means counting from the last element on the axis."
   ]
  },
  {
   "cell_type": "code",
   "execution_count": 12,
   "metadata": {
    "id": "--SWM-0gj8MA"
   },
   "outputs": [
    {
     "data": {
      "text/plain": [
       "23"
      ]
     },
     "execution_count": 12,
     "metadata": {},
     "output_type": "execute_result"
    }
   ],
   "source": [
    "a[3,2,1]"
   ]
  },
  {
   "cell_type": "code",
   "execution_count": 13,
   "metadata": {
    "id": "--SWM-0gj8MA"
   },
   "outputs": [
    {
     "data": {
      "text/plain": [
       "21"
      ]
     },
     "execution_count": 13,
     "metadata": {},
     "output_type": "execute_result"
    }
   ],
   "source": [
    "a[3,-2,1]"
   ]
  },
  {
   "cell_type": "markdown",
   "metadata": {},
   "source": [
    "__Slicing__ operation takes a range `start:stop` and returns a contiguous subset of array elements from `start` (_inclusive_) to `stop` (_exclusive_). Leaving `start` blank means slicing from the first element, while leaving `stop` blank means slicing until and including the last element.\n",
    "\n",
    "The slicer can take an optional third argument, making it `start:stop:step`, to set the interval at which elements are included in the slice. A negative step reverses the direction of the stepping."
   ]
  },
  {
   "cell_type": "code",
   "execution_count": 14,
   "metadata": {
    "id": "--SWM-0gj8MA"
   },
   "outputs": [
    {
     "data": {
      "text/plain": [
       "array([21])"
      ]
     },
     "execution_count": 14,
     "metadata": {},
     "output_type": "execute_result"
    }
   ],
   "source": [
    "a[3,1:2,1]"
   ]
  },
  {
   "cell_type": "code",
   "execution_count": 15,
   "metadata": {
    "id": "--SWM-0gj8MA"
   },
   "outputs": [
    {
     "data": {
      "text/plain": [
       "array([21, 23])"
      ]
     },
     "execution_count": 15,
     "metadata": {},
     "output_type": "execute_result"
    }
   ],
   "source": [
    "a[3,1:,1]"
   ]
  },
  {
   "cell_type": "code",
   "execution_count": 16,
   "metadata": {
    "id": "--SWM-0gj8MA"
   },
   "outputs": [
    {
     "data": {
      "text/plain": [
       "array([[ 1,  3,  5],\n",
       "       [13, 15, 17]])"
      ]
     },
     "execution_count": 16,
     "metadata": {},
     "output_type": "execute_result"
    }
   ],
   "source": [
    "a[::2,:,1]"
   ]
  },
  {
   "cell_type": "markdown",
   "metadata": {},
   "source": [
    "Conceptually, indexing returns an _element_ of the array, while slicing returns a _subset_ of the array. \n",
    "\n",
    "- A subset of an array is always another array. \n",
    "\n",
    "- An element of a 1D array is simply a value; an element of a 2D array is a 1D array, and so on. \n",
    "\n",
    "The indexing operation essentially narrows down to the element axis by axis, from axis 0 upwards. \n",
    "\n",
    "We can omit index components for higher axes (that is, stop narrowing down at one point) to retrieve all elements on remaining axes. This is equivalent to getting a complete slice of all remaining axes."
   ]
  },
  {
   "cell_type": "code",
   "execution_count": 17,
   "metadata": {
    "id": "--SWM-0gj8MA"
   },
   "outputs": [
    {
     "data": {
      "text/plain": [
       "array([22, 23])"
      ]
     },
     "execution_count": 17,
     "metadata": {},
     "output_type": "execute_result"
    }
   ],
   "source": [
    "a[3,2]"
   ]
  },
  {
   "cell_type": "code",
   "execution_count": 18,
   "metadata": {
    "id": "--SWM-0gj8MA"
   },
   "outputs": [
    {
     "data": {
      "text/plain": [
       "array([22, 23])"
      ]
     },
     "execution_count": 18,
     "metadata": {},
     "output_type": "execute_result"
    }
   ],
   "source": [
    "a[3,2,:]"
   ]
  },
  {
   "cell_type": "code",
   "execution_count": 19,
   "metadata": {
    "id": "--SWM-0gj8MA"
   },
   "outputs": [
    {
     "data": {
      "text/plain": [
       "array([[18, 19],\n",
       "       [20, 21],\n",
       "       [22, 23]])"
      ]
     },
     "execution_count": 19,
     "metadata": {},
     "output_type": "execute_result"
    }
   ],
   "source": [
    "a[3]"
   ]
  },
  {
   "cell_type": "code",
   "execution_count": 20,
   "metadata": {
    "id": "--SWM-0gj8MA"
   },
   "outputs": [
    {
     "data": {
      "text/plain": [
       "array([[18, 19],\n",
       "       [20, 21],\n",
       "       [22, 23]])"
      ]
     },
     "execution_count": 20,
     "metadata": {},
     "output_type": "execute_result"
    }
   ],
   "source": [
    "a[3,:,:]"
   ]
  },
  {
   "cell_type": "markdown",
   "metadata": {},
   "source": [
    "__Try this out:__ \n",
    "\n",
    "- Can you omit index components for lower axes (while specifying one or more higher axes index)? What elements do this retrieve? How is it different from slicing?\n",
    "\n",
    "- Can you omit index components for arbitrary axes (while specifying other axes index)? What elements do this retrieve? How is it different from slicing?"
   ]
  },
  {
   "cell_type": "code",
   "execution_count": 21,
   "metadata": {},
   "outputs": [
    {
     "data": {
      "text/plain": [
       "array([ 6,  8, 10])"
      ]
     },
     "execution_count": 21,
     "metadata": {},
     "output_type": "execute_result"
    }
   ],
   "source": [
    "# Try!\n",
    "a[:,2,1]\n",
    "a[1,:,0]"
   ]
  },
  {
   "cell_type": "markdown",
   "metadata": {},
   "source": [
    "__Arithmetic operations__ on arrays are applied _element-wise_."
   ]
  },
  {
   "cell_type": "code",
   "execution_count": 22,
   "metadata": {},
   "outputs": [
    {
     "data": {
      "text/plain": [
       "array([[[ 0,  2],\n",
       "        [ 4,  6],\n",
       "        [ 8, 10]],\n",
       "\n",
       "       [[12, 14],\n",
       "        [16, 18],\n",
       "        [20, 22]],\n",
       "\n",
       "       [[24, 26],\n",
       "        [28, 30],\n",
       "        [32, 34]],\n",
       "\n",
       "       [[36, 38],\n",
       "        [40, 42],\n",
       "        [44, 46]]])"
      ]
     },
     "execution_count": 22,
     "metadata": {},
     "output_type": "execute_result"
    }
   ],
   "source": [
    "a*2"
   ]
  },
  {
   "cell_type": "code",
   "execution_count": 23,
   "metadata": {},
   "outputs": [
    {
     "data": {
      "text/plain": [
       "array([[[ True,  True],\n",
       "        [ True,  True],\n",
       "        [ True,  True]],\n",
       "\n",
       "       [[ True, False],\n",
       "        [False, False],\n",
       "        [False, False]],\n",
       "\n",
       "       [[False, False],\n",
       "        [False, False],\n",
       "        [False, False]],\n",
       "\n",
       "       [[False, False],\n",
       "        [False, False],\n",
       "        [False, False]]])"
      ]
     },
     "execution_count": 23,
     "metadata": {},
     "output_type": "execute_result"
    }
   ],
   "source": [
    "a < 7"
   ]
  },
  {
   "cell_type": "markdown",
   "metadata": {
    "id": "--SWM-0gj8MA"
   },
   "source": [
    "## Pandas Series and DataFrame\n",
    "\n",
    "Pandas data table representation is __DataFrame__, a 2-dimensional data structure that can store data of different types in columns.\n",
    "\n",
    "<img src = \"https://pandas.pydata.org/pandas-docs/stable/_images/01_table_dataframe.svg\" width=\"360\">\n",
    "\n",
    "Each column in a DataFrame is a __Series__, a one-dimensional labeled array consisting of _index_ (the axis label) and data values. A Series object has a single data type, which can be any supported [`dtype`](https://pandas.pydata.org/docs/user_guide/basics.html#basics-dtypes) (integers, strings, Python objects, etc.).\n",
    "\n",
    "<img src = \"https://pandas.pydata.org/pandas-docs/stable/_images/01_table_series.svg\" width=\"120\">\n",
    "\n",
    "Sample basic operations on Series and DataFrame are given below. Try running the codes and make sure you understand the output. You can refer to [Pandas User Guide on data structures](https://pandas.pydata.org/docs/user_guide/dsintro.html) for more comprehensive guides.\n",
    "\n",
    "\n",
    "### Series Operations\n",
    "\n",
    "There are various ways to __create a Series__, such as from a NumPy array. We can specify the index or leave it as the default integer-based index."
   ]
  },
  {
   "cell_type": "code",
   "execution_count": 24,
   "metadata": {},
   "outputs": [
    {
     "data": {
      "text/plain": [
       "a    0.188461\n",
       "b    0.330434\n",
       "c    0.035600\n",
       "d    0.189538\n",
       "e    0.166345\n",
       "dtype: float64"
      ]
     },
     "execution_count": 24,
     "metadata": {},
     "output_type": "execute_result"
    }
   ],
   "source": [
    "s = pd.Series( np.random.rand(5), index=[\"a\", \"b\", \"c\", \"d\", \"e\"] )\n",
    "s.shape\n",
    "s"
   ]
  },
  {
   "cell_type": "markdown",
   "metadata": {
    "id": "--SWM-0gj8MA"
   },
   "source": [
    "The concepts of indexing, slicing, and element-wise arithmetic operations also apply to Series, with some differences in application compared to NumPy arrays. Various [indexing methods](https://pandas.pydata.org/docs/user_guide/indexing.html) are supported.\n",
    "\n",
    "__Indexing__ may use the index label or the integer position."
   ]
  },
  {
   "cell_type": "code",
   "execution_count": 25,
   "metadata": {},
   "outputs": [
    {
     "data": {
      "text/plain": [
       "0.18846100132875188"
      ]
     },
     "execution_count": 25,
     "metadata": {},
     "output_type": "execute_result"
    }
   ],
   "source": [
    "s['a']"
   ]
  },
  {
   "cell_type": "code",
   "execution_count": 26,
   "metadata": {},
   "outputs": [
    {
     "data": {
      "text/plain": [
       "0.18846100132875188"
      ]
     },
     "execution_count": 26,
     "metadata": {},
     "output_type": "execute_result"
    }
   ],
   "source": [
    "s[0]"
   ]
  },
  {
   "cell_type": "markdown",
   "metadata": {},
   "source": [
    "The `Series.get()` method avoids throwing error for invalid labels."
   ]
  },
  {
   "cell_type": "code",
   "execution_count": 27,
   "metadata": {},
   "outputs": [
    {
     "data": {
      "text/plain": [
       "0.1895378960422449"
      ]
     },
     "execution_count": 27,
     "metadata": {},
     "output_type": "execute_result"
    }
   ],
   "source": [
    "s.get('d')"
   ]
  },
  {
   "cell_type": "code",
   "execution_count": 28,
   "metadata": {},
   "outputs": [],
   "source": [
    "s.get('f')  # What happens?"
   ]
  },
  {
   "cell_type": "code",
   "execution_count": 29,
   "metadata": {},
   "outputs": [
    {
     "name": "stdout",
     "output_type": "stream",
     "text": [
      "None\n"
     ]
    }
   ],
   "source": [
    "print( s.get('f') )"
   ]
  },
  {
   "cell_type": "markdown",
   "metadata": {},
   "source": [
    "__Slicing__ with a range is applied on the Series data as well as the index."
   ]
  },
  {
   "cell_type": "code",
   "execution_count": 30,
   "metadata": {},
   "outputs": [
    {
     "data": {
      "text/plain": [
       "c    0.035600\n",
       "d    0.189538\n",
       "dtype: float64"
      ]
     },
     "execution_count": 30,
     "metadata": {},
     "output_type": "execute_result"
    }
   ],
   "source": [
    "s[2:4]"
   ]
  },
  {
   "cell_type": "code",
   "execution_count": 31,
   "metadata": {},
   "outputs": [
    {
     "data": {
      "text/plain": [
       "a    0.188461\n",
       "c    0.035600\n",
       "e    0.166345\n",
       "dtype: float64"
      ]
     },
     "execution_count": 31,
     "metadata": {},
     "output_type": "execute_result"
    }
   ],
   "source": [
    "s[::2]  # with step"
   ]
  },
  {
   "cell_type": "markdown",
   "metadata": {},
   "source": [
    "As Series has index labels, slicing can be done using labels as well, but the behaviour is different. Try this out."
   ]
  },
  {
   "cell_type": "code",
   "execution_count": 32,
   "metadata": {},
   "outputs": [
    {
     "data": {
      "text/plain": [
       "c    0.035600\n",
       "d    0.189538\n",
       "dtype: float64"
      ]
     },
     "execution_count": 32,
     "metadata": {},
     "output_type": "execute_result"
    }
   ],
   "source": [
    "s['c':'d']"
   ]
  },
  {
   "cell_type": "markdown",
   "metadata": {},
   "source": [
    "Unlike with NumPy arrays, __arbitrary non-contiguous slicing__ is possible. We can specify a list of labels."
   ]
  },
  {
   "cell_type": "code",
   "execution_count": 33,
   "metadata": {},
   "outputs": [
    {
     "data": {
      "text/plain": [
       "a    0.188461\n",
       "b    0.330434\n",
       "d    0.189538\n",
       "dtype: float64"
      ]
     },
     "execution_count": 33,
     "metadata": {},
     "output_type": "execute_result"
    }
   ],
   "source": [
    "# Note the inner [] for list notation\n",
    "s[['a','b','d']]"
   ]
  },
  {
   "cell_type": "markdown",
   "metadata": {},
   "source": [
    "We can also pass a boolean Series to pick elements corresponding to `True`-valued labels."
   ]
  },
  {
   "cell_type": "code",
   "execution_count": 34,
   "metadata": {},
   "outputs": [
    {
     "name": "stdout",
     "output_type": "stream",
     "text": [
      "Median: 0.18846100132875188\n"
     ]
    },
    {
     "data": {
      "text/plain": [
       "b    0.330434\n",
       "d    0.189538\n",
       "dtype: float64"
      ]
     },
     "execution_count": 34,
     "metadata": {},
     "output_type": "execute_result"
    }
   ],
   "source": [
    "print( \"Median:\", s.median() )\n",
    "\n",
    "# The > operation is applied element-wise, resulting in a Series of boolean values\n",
    "s[ s > s.median() ]"
   ]
  },
  {
   "cell_type": "markdown",
   "metadata": {},
   "source": [
    "### DataFrame Operations\n",
    "\n",
    "Most of the time, the DataFrames we work with are the results of loading actual datasets. There are also other ways of __creating a DataFrame__, such as from a dict of Series."
   ]
  },
  {
   "cell_type": "code",
   "execution_count": 35,
   "metadata": {},
   "outputs": [
    {
     "data": {
      "text/html": [
       "<div>\n",
       "<style scoped>\n",
       "    .dataframe tbody tr th:only-of-type {\n",
       "        vertical-align: middle;\n",
       "    }\n",
       "\n",
       "    .dataframe tbody tr th {\n",
       "        vertical-align: top;\n",
       "    }\n",
       "\n",
       "    .dataframe thead th {\n",
       "        text-align: right;\n",
       "    }\n",
       "</style>\n",
       "<table border=\"1\" class=\"dataframe\">\n",
       "  <thead>\n",
       "    <tr style=\"text-align: right;\">\n",
       "      <th></th>\n",
       "      <th>one</th>\n",
       "      <th>two</th>\n",
       "    </tr>\n",
       "  </thead>\n",
       "  <tbody>\n",
       "    <tr>\n",
       "      <th>a</th>\n",
       "      <td>0.118701</td>\n",
       "      <td>Alice</td>\n",
       "    </tr>\n",
       "    <tr>\n",
       "      <th>b</th>\n",
       "      <td>0.274582</td>\n",
       "      <td>Bob</td>\n",
       "    </tr>\n",
       "    <tr>\n",
       "      <th>c</th>\n",
       "      <td>0.395127</td>\n",
       "      <td>Carol</td>\n",
       "    </tr>\n",
       "    <tr>\n",
       "      <th>d</th>\n",
       "      <td>0.447003</td>\n",
       "      <td>NaN</td>\n",
       "    </tr>\n",
       "    <tr>\n",
       "      <th>e</th>\n",
       "      <td>0.729702</td>\n",
       "      <td>NaN</td>\n",
       "    </tr>\n",
       "  </tbody>\n",
       "</table>\n",
       "</div>"
      ],
      "text/plain": [
       "        one    two\n",
       "a  0.118701  Alice\n",
       "b  0.274582    Bob\n",
       "c  0.395127  Carol\n",
       "d  0.447003    NaN\n",
       "e  0.729702    NaN"
      ]
     },
     "execution_count": 35,
     "metadata": {},
     "output_type": "execute_result"
    }
   ],
   "source": [
    "d = {\n",
    "    \"one\": pd.Series( np.random.rand(5), index=list('abcde') ),\n",
    "    \"two\": pd.Series( ['Alice', 'Bob', 'Carol'], index=list('abc') )  # different length\n",
    "}\n",
    "# Observe how the different Series lengths are handled\n",
    "df = pd.DataFrame(d)\n",
    "df"
   ]
  },
  {
   "cell_type": "markdown",
   "metadata": {},
   "source": [
    "__Select DataFrame columns__ by column name. The result is a Series, retaining the index. The column name is stored in the `name` attribute of the Series."
   ]
  },
  {
   "cell_type": "code",
   "execution_count": 36,
   "metadata": {},
   "outputs": [
    {
     "data": {
      "text/plain": [
       "a    Alice\n",
       "b      Bob\n",
       "c    Carol\n",
       "d      NaN\n",
       "e      NaN\n",
       "Name: two, dtype: object"
      ]
     },
     "execution_count": 36,
     "metadata": {},
     "output_type": "execute_result"
    }
   ],
   "source": [
    "df[\"two\"]"
   ]
  },
  {
   "cell_type": "markdown",
   "metadata": {},
   "source": [
    "__Select DataFrame rows__ by the row label using `df.loc`, or by the integer location using `df.iloc`. The result is also a Series, with the column names serving as index. The row label is stored in the `name` attribute of the Series."
   ]
  },
  {
   "cell_type": "code",
   "execution_count": 37,
   "metadata": {
    "scrolled": false
   },
   "outputs": [
    {
     "data": {
      "text/plain": [
       "one    0.395127\n",
       "two       Carol\n",
       "Name: c, dtype: object"
      ]
     },
     "execution_count": 37,
     "metadata": {},
     "output_type": "execute_result"
    }
   ],
   "source": [
    "df.loc['c']"
   ]
  },
  {
   "cell_type": "code",
   "execution_count": 38,
   "metadata": {},
   "outputs": [
    {
     "data": {
      "text/plain": [
       "one    0.395127\n",
       "two       Carol\n",
       "Name: c, dtype: object"
      ]
     },
     "execution_count": 38,
     "metadata": {},
     "output_type": "execute_result"
    }
   ],
   "source": [
    "df.iloc[2]"
   ]
  },
  {
   "cell_type": "markdown",
   "metadata": {},
   "source": [
    "We can __add a new column__ to the DataFrame, e.g., from a Series. \n",
    "\n",
    "New columns are added at the end by default. `DataFrame.insert()` can be used to insert a column at a particular location."
   ]
  },
  {
   "cell_type": "code",
   "execution_count": 39,
   "metadata": {},
   "outputs": [
    {
     "data": {
      "text/html": [
       "<div>\n",
       "<style scoped>\n",
       "    .dataframe tbody tr th:only-of-type {\n",
       "        vertical-align: middle;\n",
       "    }\n",
       "\n",
       "    .dataframe tbody tr th {\n",
       "        vertical-align: top;\n",
       "    }\n",
       "\n",
       "    .dataframe thead th {\n",
       "        text-align: right;\n",
       "    }\n",
       "</style>\n",
       "<table border=\"1\" class=\"dataframe\">\n",
       "  <thead>\n",
       "    <tr style=\"text-align: right;\">\n",
       "      <th></th>\n",
       "      <th>one</th>\n",
       "      <th>two</th>\n",
       "      <th>flag</th>\n",
       "    </tr>\n",
       "  </thead>\n",
       "  <tbody>\n",
       "    <tr>\n",
       "      <th>a</th>\n",
       "      <td>0.118701</td>\n",
       "      <td>Alice</td>\n",
       "      <td>1.0</td>\n",
       "    </tr>\n",
       "    <tr>\n",
       "      <th>b</th>\n",
       "      <td>0.274582</td>\n",
       "      <td>Bob</td>\n",
       "      <td>1.0</td>\n",
       "    </tr>\n",
       "    <tr>\n",
       "      <th>c</th>\n",
       "      <td>0.395127</td>\n",
       "      <td>Carol</td>\n",
       "      <td>1.0</td>\n",
       "    </tr>\n",
       "    <tr>\n",
       "      <th>d</th>\n",
       "      <td>0.447003</td>\n",
       "      <td>NaN</td>\n",
       "      <td>1.0</td>\n",
       "    </tr>\n",
       "    <tr>\n",
       "      <th>e</th>\n",
       "      <td>0.729702</td>\n",
       "      <td>NaN</td>\n",
       "      <td>1.0</td>\n",
       "    </tr>\n",
       "  </tbody>\n",
       "</table>\n",
       "</div>"
      ],
      "text/plain": [
       "        one    two  flag\n",
       "a  0.118701  Alice   1.0\n",
       "b  0.274582    Bob   1.0\n",
       "c  0.395127  Carol   1.0\n",
       "d  0.447003    NaN   1.0\n",
       "e  0.729702    NaN   1.0"
      ]
     },
     "execution_count": 39,
     "metadata": {},
     "output_type": "execute_result"
    }
   ],
   "source": [
    "df[\"flag\"] = pd.Series( np.ones(5), index=list('abcde') )\n",
    "df"
   ]
  },
  {
   "cell_type": "code",
   "execution_count": 40,
   "metadata": {},
   "outputs": [
    {
     "data": {
      "text/html": [
       "<div>\n",
       "<style scoped>\n",
       "    .dataframe tbody tr th:only-of-type {\n",
       "        vertical-align: middle;\n",
       "    }\n",
       "\n",
       "    .dataframe tbody tr th {\n",
       "        vertical-align: top;\n",
       "    }\n",
       "\n",
       "    .dataframe thead th {\n",
       "        text-align: right;\n",
       "    }\n",
       "</style>\n",
       "<table border=\"1\" class=\"dataframe\">\n",
       "  <thead>\n",
       "    <tr style=\"text-align: right;\">\n",
       "      <th></th>\n",
       "      <th>one</th>\n",
       "      <th>two</th>\n",
       "      <th>three</th>\n",
       "      <th>flag</th>\n",
       "    </tr>\n",
       "  </thead>\n",
       "  <tbody>\n",
       "    <tr>\n",
       "      <th>a</th>\n",
       "      <td>0.118701</td>\n",
       "      <td>Alice</td>\n",
       "      <td>0.881299</td>\n",
       "      <td>1.0</td>\n",
       "    </tr>\n",
       "    <tr>\n",
       "      <th>b</th>\n",
       "      <td>0.274582</td>\n",
       "      <td>Bob</td>\n",
       "      <td>0.725418</td>\n",
       "      <td>1.0</td>\n",
       "    </tr>\n",
       "    <tr>\n",
       "      <th>c</th>\n",
       "      <td>0.395127</td>\n",
       "      <td>Carol</td>\n",
       "      <td>0.604873</td>\n",
       "      <td>1.0</td>\n",
       "    </tr>\n",
       "    <tr>\n",
       "      <th>d</th>\n",
       "      <td>0.447003</td>\n",
       "      <td>NaN</td>\n",
       "      <td>0.552997</td>\n",
       "      <td>1.0</td>\n",
       "    </tr>\n",
       "    <tr>\n",
       "      <th>e</th>\n",
       "      <td>0.729702</td>\n",
       "      <td>NaN</td>\n",
       "      <td>0.270298</td>\n",
       "      <td>1.0</td>\n",
       "    </tr>\n",
       "  </tbody>\n",
       "</table>\n",
       "</div>"
      ],
      "text/plain": [
       "        one    two     three  flag\n",
       "a  0.118701  Alice  0.881299   1.0\n",
       "b  0.274582    Bob  0.725418   1.0\n",
       "c  0.395127  Carol  0.604873   1.0\n",
       "d  0.447003    NaN  0.552997   1.0\n",
       "e  0.729702    NaN  0.270298   1.0"
      ]
     },
     "execution_count": 40,
     "metadata": {},
     "output_type": "execute_result"
    }
   ],
   "source": [
    "df.insert( 2, \"three\", df[\"flag\"] - df[\"one\"] )\n",
    "df"
   ]
  },
  {
   "cell_type": "markdown",
   "metadata": {},
   "source": [
    "We can also __set the value of an existing column__."
   ]
  },
  {
   "cell_type": "code",
   "execution_count": 41,
   "metadata": {},
   "outputs": [
    {
     "data": {
      "text/html": [
       "<div>\n",
       "<style scoped>\n",
       "    .dataframe tbody tr th:only-of-type {\n",
       "        vertical-align: middle;\n",
       "    }\n",
       "\n",
       "    .dataframe tbody tr th {\n",
       "        vertical-align: top;\n",
       "    }\n",
       "\n",
       "    .dataframe thead th {\n",
       "        text-align: right;\n",
       "    }\n",
       "</style>\n",
       "<table border=\"1\" class=\"dataframe\">\n",
       "  <thead>\n",
       "    <tr style=\"text-align: right;\">\n",
       "      <th></th>\n",
       "      <th>one</th>\n",
       "      <th>two</th>\n",
       "      <th>three</th>\n",
       "      <th>flag</th>\n",
       "    </tr>\n",
       "  </thead>\n",
       "  <tbody>\n",
       "    <tr>\n",
       "      <th>a</th>\n",
       "      <td>0.118701</td>\n",
       "      <td>Alice</td>\n",
       "      <td>0.881299</td>\n",
       "      <td>1.0</td>\n",
       "    </tr>\n",
       "    <tr>\n",
       "      <th>b</th>\n",
       "      <td>0.274582</td>\n",
       "      <td>Bob</td>\n",
       "      <td>0.725418</td>\n",
       "      <td>1.0</td>\n",
       "    </tr>\n",
       "    <tr>\n",
       "      <th>c</th>\n",
       "      <td>0.395127</td>\n",
       "      <td>Carol</td>\n",
       "      <td>0.604873</td>\n",
       "      <td>1.0</td>\n",
       "    </tr>\n",
       "    <tr>\n",
       "      <th>d</th>\n",
       "      <td>0.447003</td>\n",
       "      <td>Dale</td>\n",
       "      <td>0.552997</td>\n",
       "      <td>1.0</td>\n",
       "    </tr>\n",
       "    <tr>\n",
       "      <th>e</th>\n",
       "      <td>0.729702</td>\n",
       "      <td>Eva</td>\n",
       "      <td>0.270298</td>\n",
       "      <td>1.0</td>\n",
       "    </tr>\n",
       "  </tbody>\n",
       "</table>\n",
       "</div>"
      ],
      "text/plain": [
       "        one    two     three  flag\n",
       "a  0.118701  Alice  0.881299   1.0\n",
       "b  0.274582    Bob  0.725418   1.0\n",
       "c  0.395127  Carol  0.604873   1.0\n",
       "d  0.447003   Dale  0.552997   1.0\n",
       "e  0.729702    Eva  0.270298   1.0"
      ]
     },
     "execution_count": 41,
     "metadata": {},
     "output_type": "execute_result"
    }
   ],
   "source": [
    "df[\"two\"] = ['Alice', 'Bob', 'Carol', 'Dale', 'Eva']\n",
    "df"
   ]
  },
  {
   "cell_type": "markdown",
   "metadata": {},
   "source": [
    "__Delete a column__ with the Python `del` function. To remove the column but keep the data as a separate Series, __pop the column__ using `DataFrame.pop` instead."
   ]
  },
  {
   "cell_type": "code",
   "execution_count": 42,
   "metadata": {},
   "outputs": [
    {
     "data": {
      "text/html": [
       "<div>\n",
       "<style scoped>\n",
       "    .dataframe tbody tr th:only-of-type {\n",
       "        vertical-align: middle;\n",
       "    }\n",
       "\n",
       "    .dataframe tbody tr th {\n",
       "        vertical-align: top;\n",
       "    }\n",
       "\n",
       "    .dataframe thead th {\n",
       "        text-align: right;\n",
       "    }\n",
       "</style>\n",
       "<table border=\"1\" class=\"dataframe\">\n",
       "  <thead>\n",
       "    <tr style=\"text-align: right;\">\n",
       "      <th></th>\n",
       "      <th>one</th>\n",
       "      <th>two</th>\n",
       "      <th>three</th>\n",
       "    </tr>\n",
       "  </thead>\n",
       "  <tbody>\n",
       "    <tr>\n",
       "      <th>a</th>\n",
       "      <td>0.118701</td>\n",
       "      <td>Alice</td>\n",
       "      <td>0.881299</td>\n",
       "    </tr>\n",
       "    <tr>\n",
       "      <th>b</th>\n",
       "      <td>0.274582</td>\n",
       "      <td>Bob</td>\n",
       "      <td>0.725418</td>\n",
       "    </tr>\n",
       "    <tr>\n",
       "      <th>c</th>\n",
       "      <td>0.395127</td>\n",
       "      <td>Carol</td>\n",
       "      <td>0.604873</td>\n",
       "    </tr>\n",
       "    <tr>\n",
       "      <th>d</th>\n",
       "      <td>0.447003</td>\n",
       "      <td>Dale</td>\n",
       "      <td>0.552997</td>\n",
       "    </tr>\n",
       "    <tr>\n",
       "      <th>e</th>\n",
       "      <td>0.729702</td>\n",
       "      <td>Eva</td>\n",
       "      <td>0.270298</td>\n",
       "    </tr>\n",
       "  </tbody>\n",
       "</table>\n",
       "</div>"
      ],
      "text/plain": [
       "        one    two     three\n",
       "a  0.118701  Alice  0.881299\n",
       "b  0.274582    Bob  0.725418\n",
       "c  0.395127  Carol  0.604873\n",
       "d  0.447003   Dale  0.552997\n",
       "e  0.729702    Eva  0.270298"
      ]
     },
     "execution_count": 42,
     "metadata": {},
     "output_type": "execute_result"
    }
   ],
   "source": [
    "del df[\"flag\"]\n",
    "df"
   ]
  },
  {
   "cell_type": "code",
   "execution_count": 43,
   "metadata": {},
   "outputs": [
    {
     "name": "stdout",
     "output_type": "stream",
     "text": [
      "Names:\n",
      " a    Alice\n",
      "b      Bob\n",
      "c    Carol\n",
      "d     Dale\n",
      "e      Eva\n",
      "Name: two, dtype: object\n"
     ]
    },
    {
     "data": {
      "text/html": [
       "<div>\n",
       "<style scoped>\n",
       "    .dataframe tbody tr th:only-of-type {\n",
       "        vertical-align: middle;\n",
       "    }\n",
       "\n",
       "    .dataframe tbody tr th {\n",
       "        vertical-align: top;\n",
       "    }\n",
       "\n",
       "    .dataframe thead th {\n",
       "        text-align: right;\n",
       "    }\n",
       "</style>\n",
       "<table border=\"1\" class=\"dataframe\">\n",
       "  <thead>\n",
       "    <tr style=\"text-align: right;\">\n",
       "      <th></th>\n",
       "      <th>one</th>\n",
       "      <th>three</th>\n",
       "    </tr>\n",
       "  </thead>\n",
       "  <tbody>\n",
       "    <tr>\n",
       "      <th>a</th>\n",
       "      <td>0.118701</td>\n",
       "      <td>0.881299</td>\n",
       "    </tr>\n",
       "    <tr>\n",
       "      <th>b</th>\n",
       "      <td>0.274582</td>\n",
       "      <td>0.725418</td>\n",
       "    </tr>\n",
       "    <tr>\n",
       "      <th>c</th>\n",
       "      <td>0.395127</td>\n",
       "      <td>0.604873</td>\n",
       "    </tr>\n",
       "    <tr>\n",
       "      <th>d</th>\n",
       "      <td>0.447003</td>\n",
       "      <td>0.552997</td>\n",
       "    </tr>\n",
       "    <tr>\n",
       "      <th>e</th>\n",
       "      <td>0.729702</td>\n",
       "      <td>0.270298</td>\n",
       "    </tr>\n",
       "  </tbody>\n",
       "</table>\n",
       "</div>"
      ],
      "text/plain": [
       "        one     three\n",
       "a  0.118701  0.881299\n",
       "b  0.274582  0.725418\n",
       "c  0.395127  0.604873\n",
       "d  0.447003  0.552997\n",
       "e  0.729702  0.270298"
      ]
     },
     "execution_count": 43,
     "metadata": {},
     "output_type": "execute_result"
    }
   ],
   "source": [
    "names = df.pop( \"two\" )\n",
    "\n",
    "print( \"Names:\\n\", names )\n",
    "df"
   ]
  },
  {
   "cell_type": "markdown",
   "metadata": {
    "id": "--SWM-0gj8MA"
   },
   "source": [
    "__`DataFrame.assign()`__ is a useful method to create new columns (potentially derived from existing columns) in a copy of the data, leaving the original DataFrame untouched."
   ]
  },
  {
   "cell_type": "code",
   "execution_count": 44,
   "metadata": {
    "id": "--SWM-0gj8MA"
   },
   "outputs": [
    {
     "data": {
      "text/html": [
       "<div>\n",
       "<style scoped>\n",
       "    .dataframe tbody tr th:only-of-type {\n",
       "        vertical-align: middle;\n",
       "    }\n",
       "\n",
       "    .dataframe tbody tr th {\n",
       "        vertical-align: top;\n",
       "    }\n",
       "\n",
       "    .dataframe thead th {\n",
       "        text-align: right;\n",
       "    }\n",
       "</style>\n",
       "<table border=\"1\" class=\"dataframe\">\n",
       "  <thead>\n",
       "    <tr style=\"text-align: right;\">\n",
       "      <th></th>\n",
       "      <th>one</th>\n",
       "      <th>three</th>\n",
       "      <th>five</th>\n",
       "    </tr>\n",
       "  </thead>\n",
       "  <tbody>\n",
       "    <tr>\n",
       "      <th>a</th>\n",
       "      <td>0.118701</td>\n",
       "      <td>0.881299</td>\n",
       "      <td>0.104611</td>\n",
       "    </tr>\n",
       "    <tr>\n",
       "      <th>b</th>\n",
       "      <td>0.274582</td>\n",
       "      <td>0.725418</td>\n",
       "      <td>0.199187</td>\n",
       "    </tr>\n",
       "    <tr>\n",
       "      <th>c</th>\n",
       "      <td>0.395127</td>\n",
       "      <td>0.604873</td>\n",
       "      <td>0.239002</td>\n",
       "    </tr>\n",
       "    <tr>\n",
       "      <th>d</th>\n",
       "      <td>0.447003</td>\n",
       "      <td>0.552997</td>\n",
       "      <td>0.247191</td>\n",
       "    </tr>\n",
       "    <tr>\n",
       "      <th>e</th>\n",
       "      <td>0.729702</td>\n",
       "      <td>0.270298</td>\n",
       "      <td>0.197237</td>\n",
       "    </tr>\n",
       "  </tbody>\n",
       "</table>\n",
       "</div>"
      ],
      "text/plain": [
       "        one     three      five\n",
       "a  0.118701  0.881299  0.104611\n",
       "b  0.274582  0.725418  0.199187\n",
       "c  0.395127  0.604873  0.239002\n",
       "d  0.447003  0.552997  0.247191\n",
       "e  0.729702  0.270298  0.197237"
      ]
     },
     "execution_count": 44,
     "metadata": {},
     "output_type": "execute_result"
    }
   ],
   "source": [
    "dfcopy = df.assign( five = df[\"one\"] * df[\"three\"] )\n",
    "dfcopy"
   ]
  },
  {
   "cell_type": "code",
   "execution_count": 45,
   "metadata": {},
   "outputs": [
    {
     "data": {
      "text/html": [
       "<div>\n",
       "<style scoped>\n",
       "    .dataframe tbody tr th:only-of-type {\n",
       "        vertical-align: middle;\n",
       "    }\n",
       "\n",
       "    .dataframe tbody tr th {\n",
       "        vertical-align: top;\n",
       "    }\n",
       "\n",
       "    .dataframe thead th {\n",
       "        text-align: right;\n",
       "    }\n",
       "</style>\n",
       "<table border=\"1\" class=\"dataframe\">\n",
       "  <thead>\n",
       "    <tr style=\"text-align: right;\">\n",
       "      <th></th>\n",
       "      <th>one</th>\n",
       "      <th>three</th>\n",
       "    </tr>\n",
       "  </thead>\n",
       "  <tbody>\n",
       "    <tr>\n",
       "      <th>a</th>\n",
       "      <td>0.118701</td>\n",
       "      <td>0.881299</td>\n",
       "    </tr>\n",
       "    <tr>\n",
       "      <th>b</th>\n",
       "      <td>0.274582</td>\n",
       "      <td>0.725418</td>\n",
       "    </tr>\n",
       "    <tr>\n",
       "      <th>c</th>\n",
       "      <td>0.395127</td>\n",
       "      <td>0.604873</td>\n",
       "    </tr>\n",
       "    <tr>\n",
       "      <th>d</th>\n",
       "      <td>0.447003</td>\n",
       "      <td>0.552997</td>\n",
       "    </tr>\n",
       "    <tr>\n",
       "      <th>e</th>\n",
       "      <td>0.729702</td>\n",
       "      <td>0.270298</td>\n",
       "    </tr>\n",
       "  </tbody>\n",
       "</table>\n",
       "</div>"
      ],
      "text/plain": [
       "        one     three\n",
       "a  0.118701  0.881299\n",
       "b  0.274582  0.725418\n",
       "c  0.395127  0.604873\n",
       "d  0.447003  0.552997\n",
       "e  0.729702  0.270298"
      ]
     },
     "execution_count": 45,
     "metadata": {},
     "output_type": "execute_result"
    }
   ],
   "source": [
    "df"
   ]
  },
  {
   "cell_type": "markdown",
   "metadata": {},
   "source": [
    "We can __rename columns__ using a mapping. The index (row labels) can similarly be renamed. Note that the rename operation returns a new DataFrame."
   ]
  },
  {
   "cell_type": "code",
   "execution_count": 46,
   "metadata": {},
   "outputs": [
    {
     "data": {
      "text/html": [
       "<div>\n",
       "<style scoped>\n",
       "    .dataframe tbody tr th:only-of-type {\n",
       "        vertical-align: middle;\n",
       "    }\n",
       "\n",
       "    .dataframe tbody tr th {\n",
       "        vertical-align: top;\n",
       "    }\n",
       "\n",
       "    .dataframe thead th {\n",
       "        text-align: right;\n",
       "    }\n",
       "</style>\n",
       "<table border=\"1\" class=\"dataframe\">\n",
       "  <thead>\n",
       "    <tr style=\"text-align: right;\">\n",
       "      <th></th>\n",
       "      <th>one</th>\n",
       "      <th>factor</th>\n",
       "      <th>five</th>\n",
       "    </tr>\n",
       "  </thead>\n",
       "  <tbody>\n",
       "    <tr>\n",
       "      <th>a</th>\n",
       "      <td>0.118701</td>\n",
       "      <td>0.881299</td>\n",
       "      <td>0.104611</td>\n",
       "    </tr>\n",
       "    <tr>\n",
       "      <th>b</th>\n",
       "      <td>0.274582</td>\n",
       "      <td>0.725418</td>\n",
       "      <td>0.199187</td>\n",
       "    </tr>\n",
       "    <tr>\n",
       "      <th>c</th>\n",
       "      <td>0.395127</td>\n",
       "      <td>0.604873</td>\n",
       "      <td>0.239002</td>\n",
       "    </tr>\n",
       "    <tr>\n",
       "      <th>d</th>\n",
       "      <td>0.447003</td>\n",
       "      <td>0.552997</td>\n",
       "      <td>0.247191</td>\n",
       "    </tr>\n",
       "    <tr>\n",
       "      <th>e</th>\n",
       "      <td>0.729702</td>\n",
       "      <td>0.270298</td>\n",
       "      <td>0.197237</td>\n",
       "    </tr>\n",
       "  </tbody>\n",
       "</table>\n",
       "</div>"
      ],
      "text/plain": [
       "        one    factor      five\n",
       "a  0.118701  0.881299  0.104611\n",
       "b  0.274582  0.725418  0.199187\n",
       "c  0.395127  0.604873  0.239002\n",
       "d  0.447003  0.552997  0.247191\n",
       "e  0.729702  0.270298  0.197237"
      ]
     },
     "execution_count": 46,
     "metadata": {},
     "output_type": "execute_result"
    }
   ],
   "source": [
    "dfcopy = dfcopy.rename( columns={\"three\" : \"factor\", \"four\" : \"product\"} )  # overwrite the existing DataFrame\n",
    "dfcopy"
   ]
  },
  {
   "cell_type": "markdown",
   "metadata": {
    "id": "--SWM-0gj8MA"
   },
   "source": [
    "## Interoperability of Pandas and NumPy Data Structures\n",
    "\n",
    "Most NumPy functions can be called directly on Series and DataFrame."
   ]
  },
  {
   "cell_type": "code",
   "execution_count": 47,
   "metadata": {},
   "outputs": [
    {
     "data": {
      "text/plain": [
       "a    1.207390\n",
       "b    1.391572\n",
       "c    1.036241\n",
       "d    1.208691\n",
       "e    1.180981\n",
       "dtype: float64"
      ]
     },
     "execution_count": 47,
     "metadata": {},
     "output_type": "execute_result"
    }
   ],
   "source": [
    "np.exp( s )"
   ]
  },
  {
   "cell_type": "code",
   "execution_count": 48,
   "metadata": {},
   "outputs": [
    {
     "data": {
      "text/html": [
       "<div>\n",
       "<style scoped>\n",
       "    .dataframe tbody tr th:only-of-type {\n",
       "        vertical-align: middle;\n",
       "    }\n",
       "\n",
       "    .dataframe tbody tr th {\n",
       "        vertical-align: top;\n",
       "    }\n",
       "\n",
       "    .dataframe thead th {\n",
       "        text-align: right;\n",
       "    }\n",
       "</style>\n",
       "<table border=\"1\" class=\"dataframe\">\n",
       "  <thead>\n",
       "    <tr style=\"text-align: right;\">\n",
       "      <th></th>\n",
       "      <th>one</th>\n",
       "      <th>three</th>\n",
       "    </tr>\n",
       "  </thead>\n",
       "  <tbody>\n",
       "    <tr>\n",
       "      <th>a</th>\n",
       "      <td>0.014090</td>\n",
       "      <td>0.776689</td>\n",
       "    </tr>\n",
       "    <tr>\n",
       "      <th>b</th>\n",
       "      <td>0.075395</td>\n",
       "      <td>0.526232</td>\n",
       "    </tr>\n",
       "    <tr>\n",
       "      <th>c</th>\n",
       "      <td>0.156125</td>\n",
       "      <td>0.365872</td>\n",
       "    </tr>\n",
       "    <tr>\n",
       "      <th>d</th>\n",
       "      <td>0.199812</td>\n",
       "      <td>0.305806</td>\n",
       "    </tr>\n",
       "    <tr>\n",
       "      <th>e</th>\n",
       "      <td>0.532465</td>\n",
       "      <td>0.073061</td>\n",
       "    </tr>\n",
       "  </tbody>\n",
       "</table>\n",
       "</div>"
      ],
      "text/plain": [
       "        one     three\n",
       "a  0.014090  0.776689\n",
       "b  0.075395  0.526232\n",
       "c  0.156125  0.365872\n",
       "d  0.199812  0.305806\n",
       "e  0.532465  0.073061"
      ]
     },
     "execution_count": 48,
     "metadata": {},
     "output_type": "execute_result"
    }
   ],
   "source": [
    "np.square( df )"
   ]
  },
  {
   "cell_type": "markdown",
   "metadata": {},
   "source": [
    "As we have seen in Tutorial 1, however, some functions will require NumPy arrays. We can __convert a Series or a DataFrame into a NumPy array__ using `Series.to_numpy` or `DataFrame.to_numpy` functions respectively. With heterogenous data, the lowest common type will have to be used."
   ]
  },
  {
   "cell_type": "code",
   "execution_count": 49,
   "metadata": {},
   "outputs": [
    {
     "data": {
      "text/plain": [
       "array([0.188461  , 0.33043409, 0.03559954, 0.1895379 , 0.16634545])"
      ]
     },
     "execution_count": 49,
     "metadata": {},
     "output_type": "execute_result"
    }
   ],
   "source": [
    "s.to_numpy()"
   ]
  },
  {
   "cell_type": "code",
   "execution_count": 50,
   "metadata": {},
   "outputs": [
    {
     "data": {
      "text/plain": [
       "array([[0.11870054, 0.88129946],\n",
       "       [0.27458177, 0.72541823],\n",
       "       [0.39512674, 0.60487326],\n",
       "       [0.44700301, 0.55299699],\n",
       "       [0.72970205, 0.27029795]])"
      ]
     },
     "execution_count": 50,
     "metadata": {},
     "output_type": "execute_result"
    }
   ],
   "source": [
    "df.to_numpy()"
   ]
  },
  {
   "cell_type": "markdown",
   "metadata": {
    "id": "--SWM-0gj8MA"
   },
   "source": [
    "Note that DataFrame is not intended to be a drop-in replacement for NumPy array as its indexing semantics and data model are quite different in places from an n-dimensional array.\n",
    "\n",
    "In situations when we can use either Pandas or NumPy functions, we may consider factors such as the speed or memory consumption, as summarized in this [Pandas vs Numpy comparison table](https://www.knowledgehut.com/blog/data-science/pandas-vs-numpy#pandas-vs-numpy-[comparison-table])."
   ]
  },
  {
   "cell_type": "markdown",
   "metadata": {},
   "source": [
    "# Introduction to SciPy\n",
    "\n",
    "The SciPy package contains various toolboxes dedicated to common issues in scientific computing. \n",
    "\n",
    "Although there are basic statistical functions (mean, mode, etc.) that can be applied directly to [Series](https://pandas.pydata.org/docs/reference/series.html#computations-descriptive-stats), [DataFrames](https://pandas.pydata.org/docs/reference/frame.html#computations-descriptive-stats), and [NumPy arrays](https://numpy.org/devdocs/reference/routines.statistics.html), the real repository for statistical functions is in [`scipy.stats`](https://docs.scipy.org/doc/scipy/reference/stats.html).\n",
    "\n",
    "Let us work with a dataset next, to see how we can use the various packages to compute the statistics. We will also use some Matplotlib plotting functions along the way, so let's import that too."
   ]
  },
  {
   "cell_type": "code",
   "execution_count": 51,
   "metadata": {},
   "outputs": [],
   "source": [
    "import scipy.stats as stats\n",
    "\n",
    "%matplotlib inline\n",
    "import matplotlib.pyplot as plt"
   ]
  },
  {
   "cell_type": "markdown",
   "metadata": {},
   "source": [
    "# Descriptive Statistics\n",
    "\n",
    "For this tutorial, we will use the [food delivery time dataset](https://www.kaggle.com/datasets/bhanupratapbiswas/food-delivery-time-prediction-case-study).\n",
    "\n",
    "__EXERCISE:__ \n",
    "\n",
    "Load the dataset from the file `food_delivery_time.xlsx`. What Pandas function should you use to read the Excel format?"
   ]
  },
  {
   "cell_type": "code",
   "execution_count": 52,
   "metadata": {
    "id": "5iDCf5XVlKHt",
    "scrolled": true
   },
   "outputs": [
    {
     "data": {
      "text/html": [
       "<div>\n",
       "<style scoped>\n",
       "    .dataframe tbody tr th:only-of-type {\n",
       "        vertical-align: middle;\n",
       "    }\n",
       "\n",
       "    .dataframe tbody tr th {\n",
       "        vertical-align: top;\n",
       "    }\n",
       "\n",
       "    .dataframe thead th {\n",
       "        text-align: right;\n",
       "    }\n",
       "</style>\n",
       "<table border=\"1\" class=\"dataframe\">\n",
       "  <thead>\n",
       "    <tr style=\"text-align: right;\">\n",
       "      <th></th>\n",
       "      <th>ID</th>\n",
       "      <th>Delivery_person_ID</th>\n",
       "      <th>Delivery_person_Age</th>\n",
       "      <th>Delivery_person_Ratings</th>\n",
       "      <th>Restaurant_latitude</th>\n",
       "      <th>Restaurant_longitude</th>\n",
       "      <th>Delivery_location_latitude</th>\n",
       "      <th>Delivery_location_longitude</th>\n",
       "      <th>Type_of_order</th>\n",
       "      <th>Type_of_vehicle</th>\n",
       "      <th>Time_taken(min)</th>\n",
       "    </tr>\n",
       "  </thead>\n",
       "  <tbody>\n",
       "    <tr>\n",
       "      <th>0</th>\n",
       "      <td>4607</td>\n",
       "      <td>INDORES13DEL02</td>\n",
       "      <td>37</td>\n",
       "      <td>4.9</td>\n",
       "      <td>22.745049</td>\n",
       "      <td>75.892471</td>\n",
       "      <td>22.765049</td>\n",
       "      <td>75.912471</td>\n",
       "      <td>Snack</td>\n",
       "      <td>motorcycle</td>\n",
       "      <td>24</td>\n",
       "    </tr>\n",
       "    <tr>\n",
       "      <th>1</th>\n",
       "      <td>B379</td>\n",
       "      <td>BANGRES18DEL02</td>\n",
       "      <td>34</td>\n",
       "      <td>4.5</td>\n",
       "      <td>12.913041</td>\n",
       "      <td>77.683237</td>\n",
       "      <td>13.043041</td>\n",
       "      <td>77.813237</td>\n",
       "      <td>Snack</td>\n",
       "      <td>scooter</td>\n",
       "      <td>33</td>\n",
       "    </tr>\n",
       "    <tr>\n",
       "      <th>2</th>\n",
       "      <td>5D6D</td>\n",
       "      <td>BANGRES19DEL01</td>\n",
       "      <td>23</td>\n",
       "      <td>4.4</td>\n",
       "      <td>12.914264</td>\n",
       "      <td>77.678400</td>\n",
       "      <td>12.924264</td>\n",
       "      <td>77.688400</td>\n",
       "      <td>Drinks</td>\n",
       "      <td>motorcycle</td>\n",
       "      <td>26</td>\n",
       "    </tr>\n",
       "    <tr>\n",
       "      <th>3</th>\n",
       "      <td>7A6A</td>\n",
       "      <td>COIMBRES13DEL02</td>\n",
       "      <td>38</td>\n",
       "      <td>4.7</td>\n",
       "      <td>11.003669</td>\n",
       "      <td>76.976494</td>\n",
       "      <td>11.053669</td>\n",
       "      <td>77.026494</td>\n",
       "      <td>Buffet</td>\n",
       "      <td>motorcycle</td>\n",
       "      <td>21</td>\n",
       "    </tr>\n",
       "    <tr>\n",
       "      <th>4</th>\n",
       "      <td>70A2</td>\n",
       "      <td>CHENRES12DEL01</td>\n",
       "      <td>32</td>\n",
       "      <td>4.6</td>\n",
       "      <td>12.972793</td>\n",
       "      <td>80.249982</td>\n",
       "      <td>13.012793</td>\n",
       "      <td>80.289982</td>\n",
       "      <td>Snack</td>\n",
       "      <td>scooter</td>\n",
       "      <td>30</td>\n",
       "    </tr>\n",
       "  </tbody>\n",
       "</table>\n",
       "</div>"
      ],
      "text/plain": [
       "     ID Delivery_person_ID  Delivery_person_Age  Delivery_person_Ratings  \\\n",
       "0  4607     INDORES13DEL02                   37                      4.9   \n",
       "1  B379     BANGRES18DEL02                   34                      4.5   \n",
       "2  5D6D     BANGRES19DEL01                   23                      4.4   \n",
       "3  7A6A    COIMBRES13DEL02                   38                      4.7   \n",
       "4  70A2     CHENRES12DEL01                   32                      4.6   \n",
       "\n",
       "   Restaurant_latitude  Restaurant_longitude  Delivery_location_latitude  \\\n",
       "0            22.745049             75.892471                   22.765049   \n",
       "1            12.913041             77.683237                   13.043041   \n",
       "2            12.914264             77.678400                   12.924264   \n",
       "3            11.003669             76.976494                   11.053669   \n",
       "4            12.972793             80.249982                   13.012793   \n",
       "\n",
       "   Delivery_location_longitude Type_of_order Type_of_vehicle  Time_taken(min)  \n",
       "0                    75.912471        Snack      motorcycle                24  \n",
       "1                    77.813237        Snack         scooter                33  \n",
       "2                    77.688400       Drinks      motorcycle                26  \n",
       "3                    77.026494       Buffet      motorcycle                21  \n",
       "4                    80.289982        Snack         scooter                30  "
      ]
     },
     "execution_count": 52,
     "metadata": {},
     "output_type": "execute_result"
    }
   ],
   "source": [
    "# TODO\n",
    "food_deli_data = pd.read_excel('food_delivery_time.xlsx')\n",
    "food_deli_data.head()"
   ]
  },
  {
   "cell_type": "code",
   "execution_count": 53,
   "metadata": {},
   "outputs": [
    {
     "name": "stdout",
     "output_type": "stream",
     "text": [
      "(45593, 11)\n",
      "       Delivery_person_Age  Delivery_person_Ratings  Restaurant_latitude  \\\n",
      "count         45593.000000             45593.000000         45593.000000   \n",
      "mean             29.544075                 4.632367            17.017729   \n",
      "std               5.696793                 0.327708             8.185109   \n",
      "min              15.000000                 1.000000           -30.905562   \n",
      "25%              25.000000                 4.600000            12.933284   \n",
      "50%              29.000000                 4.700000            18.546947   \n",
      "75%              34.000000                 4.800000            22.728163   \n",
      "max              50.000000                 6.000000            30.914057   \n",
      "\n",
      "       Restaurant_longitude  Delivery_location_latitude  \\\n",
      "count          45593.000000                45593.000000   \n",
      "mean              70.231332                   17.465186   \n",
      "std               22.883647                    7.335122   \n",
      "min              -88.366217                    0.010000   \n",
      "25%               73.170000                   12.988453   \n",
      "50%               75.898497                   18.633934   \n",
      "75%               78.044095                   22.785049   \n",
      "max               88.433452                   31.054057   \n",
      "\n",
      "       Delivery_location_longitude  Time_taken(min)  \n",
      "count                 45593.000000     45593.000000  \n",
      "mean                     70.845702        26.294607  \n",
      "std                      21.118812         9.383806  \n",
      "min                       0.010000        10.000000  \n",
      "25%                      73.280000        19.000000  \n",
      "50%                      76.002574        26.000000  \n",
      "75%                      78.107044        32.000000  \n",
      "max                      88.563452        54.000000  \n"
     ]
    }
   ],
   "source": [
    "print(food_deli_data.shape)\n",
    "print(food_deli_data.describe())"
   ]
  },
  {
   "cell_type": "markdown",
   "metadata": {},
   "source": [
    "__EXERCISE:__ \n",
    "\n",
    "Rename the column names to make them easier to handle:\n",
    "```\n",
    "Delivery_person_*   --> Rider_*\n",
    "Delivery_location_* --> Customer_*\n",
    "Type_of_order       --> Order_Type\n",
    "Type_of_vehicle     --> Vehicle\n",
    "Time_taken(min)     --> Time\n",
    "```"
   ]
  },
  {
   "cell_type": "code",
   "execution_count": 54,
   "metadata": {
    "scrolled": true
   },
   "outputs": [
    {
     "data": {
      "text/html": [
       "<div>\n",
       "<style scoped>\n",
       "    .dataframe tbody tr th:only-of-type {\n",
       "        vertical-align: middle;\n",
       "    }\n",
       "\n",
       "    .dataframe tbody tr th {\n",
       "        vertical-align: top;\n",
       "    }\n",
       "\n",
       "    .dataframe thead th {\n",
       "        text-align: right;\n",
       "    }\n",
       "</style>\n",
       "<table border=\"1\" class=\"dataframe\">\n",
       "  <thead>\n",
       "    <tr style=\"text-align: right;\">\n",
       "      <th></th>\n",
       "      <th>ID</th>\n",
       "      <th>Delivery_person_ID</th>\n",
       "      <th>Rider_Age</th>\n",
       "      <th>Rider_Ratings</th>\n",
       "      <th>Restaurant_latitude</th>\n",
       "      <th>Restaurant_longitude</th>\n",
       "      <th>Customer_latitude</th>\n",
       "      <th>Customer_longitude</th>\n",
       "      <th>Order_Type</th>\n",
       "      <th>Vehicle</th>\n",
       "      <th>Time</th>\n",
       "    </tr>\n",
       "  </thead>\n",
       "  <tbody>\n",
       "    <tr>\n",
       "      <th>0</th>\n",
       "      <td>4607</td>\n",
       "      <td>INDORES13DEL02</td>\n",
       "      <td>37</td>\n",
       "      <td>4.9</td>\n",
       "      <td>22.745049</td>\n",
       "      <td>75.892471</td>\n",
       "      <td>22.765049</td>\n",
       "      <td>75.912471</td>\n",
       "      <td>Snack</td>\n",
       "      <td>motorcycle</td>\n",
       "      <td>24</td>\n",
       "    </tr>\n",
       "    <tr>\n",
       "      <th>1</th>\n",
       "      <td>B379</td>\n",
       "      <td>BANGRES18DEL02</td>\n",
       "      <td>34</td>\n",
       "      <td>4.5</td>\n",
       "      <td>12.913041</td>\n",
       "      <td>77.683237</td>\n",
       "      <td>13.043041</td>\n",
       "      <td>77.813237</td>\n",
       "      <td>Snack</td>\n",
       "      <td>scooter</td>\n",
       "      <td>33</td>\n",
       "    </tr>\n",
       "    <tr>\n",
       "      <th>2</th>\n",
       "      <td>5D6D</td>\n",
       "      <td>BANGRES19DEL01</td>\n",
       "      <td>23</td>\n",
       "      <td>4.4</td>\n",
       "      <td>12.914264</td>\n",
       "      <td>77.678400</td>\n",
       "      <td>12.924264</td>\n",
       "      <td>77.688400</td>\n",
       "      <td>Drinks</td>\n",
       "      <td>motorcycle</td>\n",
       "      <td>26</td>\n",
       "    </tr>\n",
       "    <tr>\n",
       "      <th>3</th>\n",
       "      <td>7A6A</td>\n",
       "      <td>COIMBRES13DEL02</td>\n",
       "      <td>38</td>\n",
       "      <td>4.7</td>\n",
       "      <td>11.003669</td>\n",
       "      <td>76.976494</td>\n",
       "      <td>11.053669</td>\n",
       "      <td>77.026494</td>\n",
       "      <td>Buffet</td>\n",
       "      <td>motorcycle</td>\n",
       "      <td>21</td>\n",
       "    </tr>\n",
       "    <tr>\n",
       "      <th>4</th>\n",
       "      <td>70A2</td>\n",
       "      <td>CHENRES12DEL01</td>\n",
       "      <td>32</td>\n",
       "      <td>4.6</td>\n",
       "      <td>12.972793</td>\n",
       "      <td>80.249982</td>\n",
       "      <td>13.012793</td>\n",
       "      <td>80.289982</td>\n",
       "      <td>Snack</td>\n",
       "      <td>scooter</td>\n",
       "      <td>30</td>\n",
       "    </tr>\n",
       "  </tbody>\n",
       "</table>\n",
       "</div>"
      ],
      "text/plain": [
       "     ID Delivery_person_ID  Rider_Age  Rider_Ratings  Restaurant_latitude  \\\n",
       "0  4607     INDORES13DEL02         37            4.9            22.745049   \n",
       "1  B379     BANGRES18DEL02         34            4.5            12.913041   \n",
       "2  5D6D     BANGRES19DEL01         23            4.4            12.914264   \n",
       "3  7A6A    COIMBRES13DEL02         38            4.7            11.003669   \n",
       "4  70A2     CHENRES12DEL01         32            4.6            12.972793   \n",
       "\n",
       "   Restaurant_longitude  Customer_latitude  Customer_longitude Order_Type  \\\n",
       "0             75.892471          22.765049           75.912471     Snack    \n",
       "1             77.683237          13.043041           77.813237     Snack    \n",
       "2             77.678400          12.924264           77.688400    Drinks    \n",
       "3             76.976494          11.053669           77.026494    Buffet    \n",
       "4             80.249982          13.012793           80.289982     Snack    \n",
       "\n",
       "       Vehicle  Time  \n",
       "0  motorcycle     24  \n",
       "1     scooter     33  \n",
       "2  motorcycle     26  \n",
       "3  motorcycle     21  \n",
       "4     scooter     30  "
      ]
     },
     "execution_count": 54,
     "metadata": {},
     "output_type": "execute_result"
    }
   ],
   "source": [
    "# TODO\n",
    "food_deli_data = food_deli_data.rename(columns={\n",
    "    'Delivery_person_Age':'Rider_Age',\n",
    "    'Delivery_person_Ratings':'Rider_Ratings',\n",
    "    'Delivery_location_latitude':'Customer_latitude',\n",
    "    'Delivery_location_longitude':'Customer_longitude',\n",
    "    'Type_of_order':'Order_Type',\n",
    "    'Type_of_vehicle':'Vehicle',\n",
    "    'Time_taken(min)':'Time'\n",
    "})\n",
    "food_deli_data.head()"
   ]
  },
  {
   "cell_type": "markdown",
   "metadata": {},
   "source": [
    "Upon inspection, the values in the Order and Vehicle columns contain trailing whitespace, which may hinder our work later on."
   ]
  },
  {
   "cell_type": "code",
   "execution_count": 55,
   "metadata": {},
   "outputs": [
    {
     "data": {
      "text/plain": [
       "'Snack '"
      ]
     },
     "execution_count": 55,
     "metadata": {},
     "output_type": "execute_result"
    }
   ],
   "source": [
    "food_deli_data[\"Order_Type\"][0]"
   ]
  },
  {
   "cell_type": "code",
   "execution_count": 56,
   "metadata": {},
   "outputs": [
    {
     "data": {
      "text/plain": [
       "'motorcycle '"
      ]
     },
     "execution_count": 56,
     "metadata": {},
     "output_type": "execute_result"
    }
   ],
   "source": [
    "food_deli_data[\"Vehicle\"][0]"
   ]
  },
  {
   "cell_type": "markdown",
   "metadata": {},
   "source": [
    "__EXERCISE:__ \n",
    "\n",
    "Trim the whitespace from all values in these two columns and store them back in the same DataFrame. Look up the function from `Series.str` package that you can use for this."
   ]
  },
  {
   "cell_type": "code",
   "execution_count": 57,
   "metadata": {},
   "outputs": [],
   "source": [
    "# TODO\n",
    "for i in range(len(food_deli_data)):\n",
    "    food_deli_data.loc[i,'Order_Type'] = food_deli_data.loc[i,'Order_Type'].strip()\n",
    "    food_deli_data.loc[i,'Vehicle'] = food_deli_data.loc[i,'Vehicle'].strip()"
   ]
  },
  {
   "cell_type": "code",
   "execution_count": 58,
   "metadata": {},
   "outputs": [
    {
     "data": {
      "text/plain": [
       "'Snack'"
      ]
     },
     "execution_count": 58,
     "metadata": {},
     "output_type": "execute_result"
    }
   ],
   "source": [
    "food_deli_data[\"Order_Type\"][0]  # check after replacement"
   ]
  },
  {
   "cell_type": "code",
   "execution_count": 59,
   "metadata": {},
   "outputs": [
    {
     "data": {
      "text/plain": [
       "'motorcycle'"
      ]
     },
     "execution_count": 59,
     "metadata": {},
     "output_type": "execute_result"
    }
   ],
   "source": [
    "food_deli_data[\"Vehicle\"][0]  # check after replacement"
   ]
  },
  {
   "cell_type": "markdown",
   "metadata": {},
   "source": [
    "__EXERCISE:__ \n",
    "\n",
    "What is the quickest way to find out (1) age range of all Riders, (2) mean Ratings across all orders, and (3) median of delivery time, directly on this DataFrame?\n",
    "\n",
    "_Hint:_ You have done a similar task in Tutorial 1."
   ]
  },
  {
   "cell_type": "code",
   "execution_count": 60,
   "metadata": {},
   "outputs": [
    {
     "data": {
      "text/html": [
       "<div>\n",
       "<style scoped>\n",
       "    .dataframe tbody tr th:only-of-type {\n",
       "        vertical-align: middle;\n",
       "    }\n",
       "\n",
       "    .dataframe tbody tr th {\n",
       "        vertical-align: top;\n",
       "    }\n",
       "\n",
       "    .dataframe thead th {\n",
       "        text-align: right;\n",
       "    }\n",
       "</style>\n",
       "<table border=\"1\" class=\"dataframe\">\n",
       "  <thead>\n",
       "    <tr style=\"text-align: right;\">\n",
       "      <th></th>\n",
       "      <th>Rider_Age</th>\n",
       "      <th>Rider_Ratings</th>\n",
       "      <th>Restaurant_latitude</th>\n",
       "      <th>Restaurant_longitude</th>\n",
       "      <th>Customer_latitude</th>\n",
       "      <th>Customer_longitude</th>\n",
       "      <th>Time</th>\n",
       "    </tr>\n",
       "  </thead>\n",
       "  <tbody>\n",
       "    <tr>\n",
       "      <th>count</th>\n",
       "      <td>45593.000000</td>\n",
       "      <td>45593.000000</td>\n",
       "      <td>45593.000000</td>\n",
       "      <td>45593.000000</td>\n",
       "      <td>45593.000000</td>\n",
       "      <td>45593.000000</td>\n",
       "      <td>45593.000000</td>\n",
       "    </tr>\n",
       "    <tr>\n",
       "      <th>mean</th>\n",
       "      <td>29.544075</td>\n",
       "      <td>4.632367</td>\n",
       "      <td>17.017729</td>\n",
       "      <td>70.231332</td>\n",
       "      <td>17.465186</td>\n",
       "      <td>70.845702</td>\n",
       "      <td>26.294607</td>\n",
       "    </tr>\n",
       "    <tr>\n",
       "      <th>std</th>\n",
       "      <td>5.696793</td>\n",
       "      <td>0.327708</td>\n",
       "      <td>8.185109</td>\n",
       "      <td>22.883647</td>\n",
       "      <td>7.335122</td>\n",
       "      <td>21.118812</td>\n",
       "      <td>9.383806</td>\n",
       "    </tr>\n",
       "    <tr>\n",
       "      <th>min</th>\n",
       "      <td>15.000000</td>\n",
       "      <td>1.000000</td>\n",
       "      <td>-30.905562</td>\n",
       "      <td>-88.366217</td>\n",
       "      <td>0.010000</td>\n",
       "      <td>0.010000</td>\n",
       "      <td>10.000000</td>\n",
       "    </tr>\n",
       "    <tr>\n",
       "      <th>25%</th>\n",
       "      <td>25.000000</td>\n",
       "      <td>4.600000</td>\n",
       "      <td>12.933284</td>\n",
       "      <td>73.170000</td>\n",
       "      <td>12.988453</td>\n",
       "      <td>73.280000</td>\n",
       "      <td>19.000000</td>\n",
       "    </tr>\n",
       "    <tr>\n",
       "      <th>50%</th>\n",
       "      <td>29.000000</td>\n",
       "      <td>4.700000</td>\n",
       "      <td>18.546947</td>\n",
       "      <td>75.898497</td>\n",
       "      <td>18.633934</td>\n",
       "      <td>76.002574</td>\n",
       "      <td>26.000000</td>\n",
       "    </tr>\n",
       "    <tr>\n",
       "      <th>75%</th>\n",
       "      <td>34.000000</td>\n",
       "      <td>4.800000</td>\n",
       "      <td>22.728163</td>\n",
       "      <td>78.044095</td>\n",
       "      <td>22.785049</td>\n",
       "      <td>78.107044</td>\n",
       "      <td>32.000000</td>\n",
       "    </tr>\n",
       "    <tr>\n",
       "      <th>max</th>\n",
       "      <td>50.000000</td>\n",
       "      <td>6.000000</td>\n",
       "      <td>30.914057</td>\n",
       "      <td>88.433452</td>\n",
       "      <td>31.054057</td>\n",
       "      <td>88.563452</td>\n",
       "      <td>54.000000</td>\n",
       "    </tr>\n",
       "  </tbody>\n",
       "</table>\n",
       "</div>"
      ],
      "text/plain": [
       "          Rider_Age  Rider_Ratings  Restaurant_latitude  Restaurant_longitude  \\\n",
       "count  45593.000000   45593.000000         45593.000000          45593.000000   \n",
       "mean      29.544075       4.632367            17.017729             70.231332   \n",
       "std        5.696793       0.327708             8.185109             22.883647   \n",
       "min       15.000000       1.000000           -30.905562            -88.366217   \n",
       "25%       25.000000       4.600000            12.933284             73.170000   \n",
       "50%       29.000000       4.700000            18.546947             75.898497   \n",
       "75%       34.000000       4.800000            22.728163             78.044095   \n",
       "max       50.000000       6.000000            30.914057             88.433452   \n",
       "\n",
       "       Customer_latitude  Customer_longitude          Time  \n",
       "count       45593.000000        45593.000000  45593.000000  \n",
       "mean           17.465186           70.845702     26.294607  \n",
       "std             7.335122           21.118812      9.383806  \n",
       "min             0.010000            0.010000     10.000000  \n",
       "25%            12.988453           73.280000     19.000000  \n",
       "50%            18.633934           76.002574     26.000000  \n",
       "75%            22.785049           78.107044     32.000000  \n",
       "max            31.054057           88.563452     54.000000  "
      ]
     },
     "execution_count": 60,
     "metadata": {},
     "output_type": "execute_result"
    }
   ],
   "source": [
    "# TODO\n",
    "food_deli_data.describe()"
   ]
  },
  {
   "cell_type": "markdown",
   "metadata": {},
   "source": [
    "The `DataFrame.describe` function is handy to quickly obtain basic statistics for all _numeric_ variables. These statistics are generated by excluding the missing values in the data, and the `count` value shows how many values in the column are used in the computation. As such, `count` is also a good indicator of the presence of missing values. \n",
    "\n",
    "Observe the output above and check whether this dataset have any missing values. (We will see how to deal with this situation when we learn Data Preprocessing later on in this course.)\n",
    "\n",
    "Of course, we can obtain the standalone statistical measures (count, mean, std, and so on) as well. You can refer to the documentations for the functions.\n",
    "\n",
    "__EXERCISE:__\n",
    "\n",
    "Using standalone functions, obtain the answer to the three questions above."
   ]
  },
  {
   "cell_type": "code",
   "execution_count": 61,
   "metadata": {},
   "outputs": [
    {
     "data": {
      "text/plain": [
       "50"
      ]
     },
     "execution_count": 61,
     "metadata": {},
     "output_type": "execute_result"
    }
   ],
   "source": [
    "# TODO: Find the age range of all Riders\n",
    "food_deli_data['Rider_Age'].min()\n",
    "food_deli_data['Rider_Age'].max()"
   ]
  },
  {
   "cell_type": "code",
   "execution_count": 62,
   "metadata": {},
   "outputs": [
    {
     "data": {
      "text/plain": [
       "4.7"
      ]
     },
     "execution_count": 62,
     "metadata": {},
     "output_type": "execute_result"
    }
   ],
   "source": [
    "# TODO: Find the mean Ratings across all orders\n",
    "food_deli_data['Rider_Ratings'].median()"
   ]
  },
  {
   "cell_type": "code",
   "execution_count": 63,
   "metadata": {},
   "outputs": [
    {
     "data": {
      "text/plain": [
       "26.0"
      ]
     },
     "execution_count": 63,
     "metadata": {},
     "output_type": "execute_result"
    }
   ],
   "source": [
    "# TODO: Find the median of delivery time\n",
    "food_deli_data['Time'].median()"
   ]
  },
  {
   "cell_type": "markdown",
   "metadata": {},
   "source": [
    "__Categorical variables__ are excluded from `DataFrame.describe`. As we would expect, measures like mean or median are not sensible for such variables. \n",
    "\n",
    "What statistics apply to categorical variables? These are count-related measures such as frequencies and proportion.\n",
    "\n",
    "__EXERCISE:__ \n",
    "\n",
    "Find out the most popular order type in this dataset."
   ]
  },
  {
   "cell_type": "code",
   "execution_count": 64,
   "metadata": {},
   "outputs": [
    {
     "data": {
      "text/plain": [
       "0    Snack\n",
       "Name: Order_Type, dtype: object"
      ]
     },
     "execution_count": 64,
     "metadata": {},
     "output_type": "execute_result"
    }
   ],
   "source": [
    "# TODO\n",
    "food_deli_data['Order_Type'].astype(\"category\").value_counts()\n",
    "food_deli_data['Order_Type'].mode()"
   ]
  },
  {
   "cell_type": "markdown",
   "metadata": {},
   "source": [
    "Check if your answer is correct by comparing it with the counts of all variables below. \n",
    "\n",
    "Suppose we want to optimize the delivery operations. Looking at all the counts, is the mode useful to make a decision on which order type to focus on?"
   ]
  },
  {
   "cell_type": "code",
   "execution_count": 65,
   "metadata": {},
   "outputs": [
    {
     "data": {
      "text/plain": [
       "Snack     11533\n",
       "Meal      11458\n",
       "Drinks    11322\n",
       "Buffet    11280\n",
       "Name: Order_Type, dtype: int64"
      ]
     },
     "execution_count": 65,
     "metadata": {},
     "output_type": "execute_result"
    }
   ],
   "source": [
    "food_deli_data[\"Order_Type\"].value_counts()"
   ]
  },
  {
   "cell_type": "markdown",
   "metadata": {},
   "source": [
    "`scipy.stats` has a `describe` function as well, which works on _a single numeric variable_ and gives a slightly different set of statistical measures."
   ]
  },
  {
   "cell_type": "code",
   "execution_count": 66,
   "metadata": {},
   "outputs": [
    {
     "data": {
      "text/plain": [
       "DescribeResult(nobs=45593, minmax=(1.0, 6.0), mean=4.632366810694624, variance=0.10739222445731587, skewness=-2.5328131336460165, kurtosis=16.42374563889402)"
      ]
     },
     "execution_count": 66,
     "metadata": {},
     "output_type": "execute_result"
    }
   ],
   "source": [
    "import scipy.stats as stats\n",
    "stats.describe( food_deli_data[\"Rider_Ratings\"] )"
   ]
  },
  {
   "cell_type": "markdown",
   "metadata": {},
   "source": [
    "## Grouping and Filtering\n",
    "\n",
    "Most of the time, statistics over the whole dataset do not give us a lot of meaningful information. For instance, not many useful conclusions can be drawn just by knowing the mean delivery time of all orders, given the variation in delivery distances and delivery vehicles. We would typically want to filter or group the dataset by values or conditions on the variables."
   ]
  },
  {
   "cell_type": "markdown",
   "metadata": {
    "id": "oCJCeQIaq-hC"
   },
   "source": [
    "### Groupby\n",
    "\n",
    "We can use `DataFrame.groupby()` function to split the dataset based on values of a specific variable. This is typically done to obtain aggregate statistics for the resulting groups (as what we want to do here), or other useful functionalities in the _split-apply-combine_ framework for data analysis as explained in [this Pandas guide](https://pandas.pydata.org/pandas-docs/stable/user_guide/groupby.html). \n",
    "\n",
    "The following image ([source](https://www.justintodata.com/pandas-groupby-with-python/)) illustrates the groupby mechanism.\n",
    "\n",
    "<img src=\"https://www.justintodata.com/wp-content/uploads/2020/04/image-4.png\">\n",
    "\n",
    "Note that no actual splitting is done when the GroupBy object is created. The function only verifies that we have passed a valid mapping. The splitting is only done when we explicitly use some method on this object or extract some of its attributes, such as `groups`."
   ]
  },
  {
   "cell_type": "code",
   "execution_count": 67,
   "metadata": {},
   "outputs": [
    {
     "data": {
      "text/html": [
       "<div>\n",
       "<style scoped>\n",
       "    .dataframe tbody tr th:only-of-type {\n",
       "        vertical-align: middle;\n",
       "    }\n",
       "\n",
       "    .dataframe tbody tr th {\n",
       "        vertical-align: top;\n",
       "    }\n",
       "\n",
       "    .dataframe thead th {\n",
       "        text-align: right;\n",
       "    }\n",
       "</style>\n",
       "<table border=\"1\" class=\"dataframe\">\n",
       "  <thead>\n",
       "    <tr style=\"text-align: right;\">\n",
       "      <th></th>\n",
       "      <th>ID</th>\n",
       "      <th>Delivery_person_ID</th>\n",
       "      <th>Rider_Age</th>\n",
       "      <th>Rider_Ratings</th>\n",
       "      <th>Restaurant_latitude</th>\n",
       "      <th>Restaurant_longitude</th>\n",
       "      <th>Customer_latitude</th>\n",
       "      <th>Customer_longitude</th>\n",
       "      <th>Order_Type</th>\n",
       "      <th>Vehicle</th>\n",
       "      <th>Time</th>\n",
       "    </tr>\n",
       "  </thead>\n",
       "  <tbody>\n",
       "    <tr>\n",
       "      <th>0</th>\n",
       "      <td>4607</td>\n",
       "      <td>INDORES13DEL02</td>\n",
       "      <td>37</td>\n",
       "      <td>4.9</td>\n",
       "      <td>22.745049</td>\n",
       "      <td>75.892471</td>\n",
       "      <td>22.765049</td>\n",
       "      <td>75.912471</td>\n",
       "      <td>Snack</td>\n",
       "      <td>motorcycle</td>\n",
       "      <td>24</td>\n",
       "    </tr>\n",
       "    <tr>\n",
       "      <th>1</th>\n",
       "      <td>B379</td>\n",
       "      <td>BANGRES18DEL02</td>\n",
       "      <td>34</td>\n",
       "      <td>4.5</td>\n",
       "      <td>12.913041</td>\n",
       "      <td>77.683237</td>\n",
       "      <td>13.043041</td>\n",
       "      <td>77.813237</td>\n",
       "      <td>Snack</td>\n",
       "      <td>scooter</td>\n",
       "      <td>33</td>\n",
       "    </tr>\n",
       "    <tr>\n",
       "      <th>2</th>\n",
       "      <td>5D6D</td>\n",
       "      <td>BANGRES19DEL01</td>\n",
       "      <td>23</td>\n",
       "      <td>4.4</td>\n",
       "      <td>12.914264</td>\n",
       "      <td>77.678400</td>\n",
       "      <td>12.924264</td>\n",
       "      <td>77.688400</td>\n",
       "      <td>Drinks</td>\n",
       "      <td>motorcycle</td>\n",
       "      <td>26</td>\n",
       "    </tr>\n",
       "    <tr>\n",
       "      <th>3</th>\n",
       "      <td>7A6A</td>\n",
       "      <td>COIMBRES13DEL02</td>\n",
       "      <td>38</td>\n",
       "      <td>4.7</td>\n",
       "      <td>11.003669</td>\n",
       "      <td>76.976494</td>\n",
       "      <td>11.053669</td>\n",
       "      <td>77.026494</td>\n",
       "      <td>Buffet</td>\n",
       "      <td>motorcycle</td>\n",
       "      <td>21</td>\n",
       "    </tr>\n",
       "    <tr>\n",
       "      <th>4</th>\n",
       "      <td>70A2</td>\n",
       "      <td>CHENRES12DEL01</td>\n",
       "      <td>32</td>\n",
       "      <td>4.6</td>\n",
       "      <td>12.972793</td>\n",
       "      <td>80.249982</td>\n",
       "      <td>13.012793</td>\n",
       "      <td>80.289982</td>\n",
       "      <td>Snack</td>\n",
       "      <td>scooter</td>\n",
       "      <td>30</td>\n",
       "    </tr>\n",
       "  </tbody>\n",
       "</table>\n",
       "</div>"
      ],
      "text/plain": [
       "     ID Delivery_person_ID  Rider_Age  Rider_Ratings  Restaurant_latitude  \\\n",
       "0  4607     INDORES13DEL02         37            4.9            22.745049   \n",
       "1  B379     BANGRES18DEL02         34            4.5            12.913041   \n",
       "2  5D6D     BANGRES19DEL01         23            4.4            12.914264   \n",
       "3  7A6A    COIMBRES13DEL02         38            4.7            11.003669   \n",
       "4  70A2     CHENRES12DEL01         32            4.6            12.972793   \n",
       "\n",
       "   Restaurant_longitude  Customer_latitude  Customer_longitude Order_Type  \\\n",
       "0             75.892471          22.765049           75.912471      Snack   \n",
       "1             77.683237          13.043041           77.813237      Snack   \n",
       "2             77.678400          12.924264           77.688400     Drinks   \n",
       "3             76.976494          11.053669           77.026494     Buffet   \n",
       "4             80.249982          13.012793           80.289982      Snack   \n",
       "\n",
       "      Vehicle  Time  \n",
       "0  motorcycle    24  \n",
       "1     scooter    33  \n",
       "2  motorcycle    26  \n",
       "3  motorcycle    21  \n",
       "4     scooter    30  "
      ]
     },
     "execution_count": 67,
     "metadata": {},
     "output_type": "execute_result"
    }
   ],
   "source": [
    "food_deli_data.head()"
   ]
  },
  {
   "cell_type": "code",
   "execution_count": 68,
   "metadata": {},
   "outputs": [
    {
     "data": {
      "text/plain": [
       "{('Buffet', 'bicycle'): [1624, 1681, 1961, 2951, 8328, 8840, 12093, 14162, 17967, 21159, 22548, 35535, 35635, 39699, 45394], ('Buffet', 'electric_scooter'): [14, 28, 94, 115, 210, 230, 341, 459, 474, 497, 558, 565, 626, 660, 680, 810, 871, 955, 957, 1014, 1029, 1046, 1149, 1154, 1183, 1396, 1480, 1508, 1515, 1598, 1638, 1655, 1708, 1714, 1954, 2056, 2071, 2150, 2222, 2260, 2280, 2284, 2459, 2490, 2502, 2532, 2568, 2618, 2686, 2749, 2814, 2837, 2891, 2973, 3028, 3147, 3153, 3224, 3254, 3403, 3407, 3462, 3517, 3527, 3695, 3698, 3806, 3928, 3933, 3976, 4056, 4072, 4107, 4199, 4405, 4415, 4435, 4478, 4571, 4573, 4602, 4771, 4911, 4950, 5016, 5050, 5070, 5179, 5260, 5280, 5321, 5441, 5466, 5469, 5485, 5486, 5509, 5571, 5611, 5700, ...], ('Buffet', 'motorcycle'): [3, 5, 8, 12, 23, 27, 31, 55, 63, 72, 73, 75, 77, 84, 85, 88, 105, 133, 138, 146, 150, 157, 161, 162, 178, 183, 189, 190, 197, 213, 225, 233, 234, 241, 243, 244, 246, 250, 251, 256, 259, 266, 271, 275, 276, 280, 281, 285, 286, 295, 302, 308, 310, 314, 324, 334, 345, 349, 364, 369, 370, 392, 397, 404, 408, 413, 416, 421, 426, 428, 450, 455, 457, 470, 472, 473, 482, 488, 490, 491, 508, 509, 511, 518, 519, 530, 564, 569, 575, 578, 581, 585, 595, 600, 602, 621, 623, 627, 635, 641, ...], ('Buffet', 'scooter'): [39, 58, 68, 70, 148, 152, 153, 170, 177, 209, 228, 257, 262, 292, 325, 330, 333, 339, 346, 356, 360, 383, 393, 412, 437, 441, 444, 461, 486, 489, 495, 496, 504, 516, 534, 537, 546, 548, 555, 605, 611, 634, 640, 642, 649, 657, 691, 695, 703, 771, 806, 833, 841, 857, 892, 897, 903, 909, 921, 935, 971, 984, 996, 1002, 1025, 1030, 1034, 1055, 1068, 1070, 1075, 1078, 1079, 1080, 1099, 1105, 1111, 1134, 1161, 1188, 1198, 1201, 1229, 1245, 1261, 1265, 1266, 1267, 1272, 1276, 1287, 1298, 1332, 1339, 1352, 1386, 1389, 1404, 1410, 1440, ...], ('Drinks', 'bicycle'): [3955, 5902, 7218, 12539, 14907, 19382, 19955, 20715, 23644, 24819, 30594, 32794, 36459, 40610, 43407, 45067], ('Drinks', 'electric_scooter'): [46, 79, 97, 166, 207, 217, 309, 326, 485, 493, 579, 598, 697, 702, 829, 912, 938, 1062, 1126, 1185, 1222, 1244, 1305, 1353, 1422, 1500, 1658, 1663, 1666, 1675, 1871, 1889, 1932, 2055, 2195, 2204, 2276, 2364, 2382, 2415, 2506, 2511, 2521, 2522, 2534, 2542, 2603, 2630, 2647, 2693, 2735, 2921, 2926, 2976, 2980, 3000, 3009, 3148, 3162, 3165, 3231, 3328, 3352, 3354, 3364, 3373, 3423, 3436, 3442, 3445, 3457, 3532, 3583, 3623, 3794, 3841, 3843, 3847, 3945, 4060, 4114, 4135, 4279, 4341, 4352, 4426, 4516, 4533, 4541, 4568, 4572, 4790, 4933, 5002, 5041, 5064, 5215, 5223, 5241, 5304, ...], ('Drinks', 'motorcycle'): [2, 29, 30, 48, 53, 76, 89, 91, 96, 110, 113, 116, 117, 119, 123, 127, 128, 134, 135, 149, 155, 158, 168, 179, 182, 185, 192, 211, 214, 235, 240, 242, 245, 252, 258, 264, 267, 273, 284, 291, 296, 298, 301, 303, 319, 320, 328, 329, 336, 337, 342, 355, 357, 358, 371, 379, 382, 388, 389, 400, 401, 406, 419, 420, 422, 427, 435, 440, 442, 443, 445, 446, 452, 456, 465, 468, 478, 481, 492, 494, 506, 507, 515, 522, 524, 529, 541, 542, 572, 592, 594, 599, 613, 647, 654, 655, 656, 671, 686, 693, ...], ('Drinks', 'scooter'): [11, 26, 32, 34, 42, 47, 51, 60, 61, 62, 64, 74, 78, 92, 93, 107, 124, 160, 169, 212, 229, 236, 237, 278, 304, 305, 311, 327, 335, 348, 354, 367, 373, 377, 395, 396, 398, 431, 434, 439, 448, 453, 458, 460, 471, 475, 498, 499, 505, 510, 512, 520, 523, 526, 531, 560, 571, 588, 591, 601, 616, 629, 643, 651, 678, 684, 688, 689, 690, 707, 716, 721, 724, 735, 736, 737, 755, 834, 839, 845, 873, 880, 887, 889, 924, 932, 934, 963, 978, 990, 1011, 1018, 1044, 1057, 1064, 1069, 1073, 1083, 1090, 1092, ...], ('Meal', 'bicycle'): [1142, 1378, 2801, 5217, 5282, 5721, 6319, 7681, 10295, 11311, 12936, 15124, 15733, 16106, 17208, 23396, 24278, 24884, 27374, 29325, 31959, 37849, 42829], ('Meal', 'electric_scooter'): [20, 24, 65, 144, 194, 293, 340, 351, 363, 415, 417, 549, 610, 658, 961, 1119, 1151, 1174, 1186, 1254, 1346, 1367, 1371, 1406, 1456, 1487, 1507, 1562, 1583, 1589, 1626, 1690, 1766, 1858, 1901, 1922, 2098, 2184, 2215, 2224, 2251, 2259, 2383, 2391, 2423, 2455, 2481, 2505, 2531, 2602, 2610, 2662, 2688, 2710, 2739, 2828, 2852, 2874, 2901, 2922, 2946, 3001, 3066, 3156, 3157, 3193, 3194, 3214, 3216, 3219, 3239, 3279, 3300, 3341, 3510, 3560, 3568, 3586, 3663, 3672, 3680, 3757, 3770, 3838, 3850, 3863, 3890, 3904, 3917, 3924, 3944, 3956, 3979, 3996, 4077, 4104, 4223, 4262, 4326, 4378, ...], ('Meal', 'motorcycle'): [7, 10, 18, 66, 83, 86, 90, 95, 102, 104, 118, 142, 156, 159, 165, 171, 174, 180, 184, 188, 191, 193, 195, 201, 204, 215, 220, 224, 227, 249, 254, 274, 312, 316, 321, 331, 352, 353, 359, 361, 366, 372, 374, 376, 380, 385, 387, 391, 394, 399, 403, 414, 423, 429, 438, 447, 451, 454, 463, 501, 503, 514, 521, 536, 538, 544, 547, 551, 552, 561, 577, 580, 584, 586, 589, 604, 607, 609, 617, 624, 625, 628, 639, 667, 672, 677, 681, 683, 701, 706, 722, 727, 733, 741, 742, 752, 754, 756, 759, 761, ...], ('Meal', 'scooter'): [6, 15, 22, 37, 67, 71, 99, 111, 122, 125, 130, 136, 143, 172, 176, 203, 218, 219, 238, 263, 269, 279, 282, 283, 289, 317, 323, 332, 365, 368, 405, 410, 432, 436, 464, 476, 487, 517, 532, 562, 568, 576, 582, 597, 608, 615, 620, 632, 637, 638, 653, 661, 665, 670, 673, 679, 685, 710, 713, 726, 734, 740, 746, 764, 783, 785, 787, 792, 801, 805, 808, 811, 812, 820, 832, 843, 846, 860, 865, 881, 901, 902, 904, 923, 966, 975, 1001, 1006, 1009, 1016, 1021, 1023, 1028, 1038, 1048, 1065, 1066, 1074, 1076, 1077, ...], ('Snack', 'bicycle'): [4714, 7762, 9535, 10504, 12000, 15343, 15927, 21396, 22691, 30579, 37041, 40285, 40668, 43164], ('Snack', 'electric_scooter'): [120, 287, 299, 300, 322, 466, 557, 587, 593, 646, 715, 851, 876, 951, 988, 1125, 1135, 1157, 1176, 1237, 1295, 1301, 1308, 1312, 1323, 1354, 1363, 1372, 1413, 1467, 1540, 1596, 1664, 1782, 1816, 1943, 1946, 2067, 2144, 2154, 2187, 2217, 2242, 2264, 2271, 2307, 2359, 2369, 2393, 2466, 2473, 2497, 2555, 2596, 2607, 2640, 2643, 2685, 2698, 2729, 2808, 2870, 2915, 2923, 2947, 3017, 3022, 3037, 3055, 3086, 3098, 3124, 3140, 3174, 3181, 3241, 3344, 3360, 3372, 3410, 3426, 3494, 3719, 3746, 3929, 3985, 4037, 4038, 4049, 4252, 4295, 4416, 4420, 4631, 4637, 4656, 4680, 4768, 4793, 4848, ...], ('Snack', 'motorcycle'): [0, 9, 16, 17, 19, 21, 25, 35, 40, 41, 43, 50, 52, 54, 56, 59, 81, 98, 100, 103, 109, 112, 131, 132, 137, 139, 141, 147, 151, 154, 164, 167, 175, 181, 186, 196, 198, 200, 202, 205, 206, 208, 216, 221, 222, 223, 226, 232, 239, 247, 248, 255, 261, 268, 272, 277, 288, 306, 307, 315, 318, 338, 343, 344, 362, 375, 378, 384, 386, 390, 402, 409, 418, 430, 462, 467, 477, 479, 483, 500, 502, 513, 525, 528, 533, 540, 545, 550, 553, 554, 556, 570, 573, 574, 583, 612, 618, 622, 630, 631, ...], ('Snack', 'scooter'): [1, 4, 13, 33, 36, 38, 44, 45, 49, 57, 69, 80, 82, 87, 101, 106, 108, 114, 121, 126, 129, 140, 145, 163, 173, 187, 199, 231, 253, 260, 265, 270, 290, 294, 297, 313, 347, 350, 381, 407, 411, 424, 425, 433, 449, 469, 480, 484, 527, 535, 539, 543, 559, 563, 566, 567, 590, 596, 603, 606, 614, 619, 662, 668, 669, 699, 709, 760, 763, 766, 767, 768, 776, 779, 788, 815, 825, 867, 875, 879, 884, 888, 895, 896, 905, 914, 920, 933, 937, 973, 977, 993, 1012, 1019, 1022, 1024, 1032, 1063, 1067, 1082, ...]}"
      ]
     },
     "execution_count": 68,
     "metadata": {},
     "output_type": "execute_result"
    }
   ],
   "source": [
    "food_deli_data.groupby( [\"Order_Type\", \"Vehicle\"] ).groups"
   ]
  },
  {
   "cell_type": "code",
   "execution_count": 69,
   "metadata": {},
   "outputs": [
    {
     "data": {
      "text/html": [
       "<div>\n",
       "<style scoped>\n",
       "    .dataframe tbody tr th:only-of-type {\n",
       "        vertical-align: middle;\n",
       "    }\n",
       "\n",
       "    .dataframe tbody tr th {\n",
       "        vertical-align: top;\n",
       "    }\n",
       "\n",
       "    .dataframe thead th {\n",
       "        text-align: right;\n",
       "    }\n",
       "</style>\n",
       "<table border=\"1\" class=\"dataframe\">\n",
       "  <thead>\n",
       "    <tr style=\"text-align: right;\">\n",
       "      <th></th>\n",
       "      <th></th>\n",
       "      <th>ID</th>\n",
       "      <th>Delivery_person_ID</th>\n",
       "      <th>Rider_Age</th>\n",
       "      <th>Rider_Ratings</th>\n",
       "      <th>Restaurant_latitude</th>\n",
       "      <th>Restaurant_longitude</th>\n",
       "      <th>Customer_latitude</th>\n",
       "      <th>Customer_longitude</th>\n",
       "      <th>Time</th>\n",
       "    </tr>\n",
       "    <tr>\n",
       "      <th>Order_Type</th>\n",
       "      <th>Vehicle</th>\n",
       "      <th></th>\n",
       "      <th></th>\n",
       "      <th></th>\n",
       "      <th></th>\n",
       "      <th></th>\n",
       "      <th></th>\n",
       "      <th></th>\n",
       "      <th></th>\n",
       "      <th></th>\n",
       "    </tr>\n",
       "  </thead>\n",
       "  <tbody>\n",
       "    <tr>\n",
       "      <th rowspan=\"4\" valign=\"top\">Buffet</th>\n",
       "      <th>bicycle</th>\n",
       "      <td>15</td>\n",
       "      <td>15</td>\n",
       "      <td>15</td>\n",
       "      <td>15</td>\n",
       "      <td>15</td>\n",
       "      <td>15</td>\n",
       "      <td>15</td>\n",
       "      <td>15</td>\n",
       "      <td>15</td>\n",
       "    </tr>\n",
       "    <tr>\n",
       "      <th>electric_scooter</th>\n",
       "      <td>943</td>\n",
       "      <td>943</td>\n",
       "      <td>943</td>\n",
       "      <td>943</td>\n",
       "      <td>943</td>\n",
       "      <td>943</td>\n",
       "      <td>943</td>\n",
       "      <td>943</td>\n",
       "      <td>943</td>\n",
       "    </tr>\n",
       "    <tr>\n",
       "      <th>motorcycle</th>\n",
       "      <td>6595</td>\n",
       "      <td>6595</td>\n",
       "      <td>6595</td>\n",
       "      <td>6595</td>\n",
       "      <td>6595</td>\n",
       "      <td>6595</td>\n",
       "      <td>6595</td>\n",
       "      <td>6595</td>\n",
       "      <td>6595</td>\n",
       "    </tr>\n",
       "    <tr>\n",
       "      <th>scooter</th>\n",
       "      <td>3727</td>\n",
       "      <td>3727</td>\n",
       "      <td>3727</td>\n",
       "      <td>3727</td>\n",
       "      <td>3727</td>\n",
       "      <td>3727</td>\n",
       "      <td>3727</td>\n",
       "      <td>3727</td>\n",
       "      <td>3727</td>\n",
       "    </tr>\n",
       "    <tr>\n",
       "      <th rowspan=\"4\" valign=\"top\">Drinks</th>\n",
       "      <th>bicycle</th>\n",
       "      <td>16</td>\n",
       "      <td>16</td>\n",
       "      <td>16</td>\n",
       "      <td>16</td>\n",
       "      <td>16</td>\n",
       "      <td>16</td>\n",
       "      <td>16</td>\n",
       "      <td>16</td>\n",
       "      <td>16</td>\n",
       "    </tr>\n",
       "    <tr>\n",
       "      <th>electric_scooter</th>\n",
       "      <td>949</td>\n",
       "      <td>949</td>\n",
       "      <td>949</td>\n",
       "      <td>949</td>\n",
       "      <td>949</td>\n",
       "      <td>949</td>\n",
       "      <td>949</td>\n",
       "      <td>949</td>\n",
       "      <td>949</td>\n",
       "    </tr>\n",
       "    <tr>\n",
       "      <th>motorcycle</th>\n",
       "      <td>6532</td>\n",
       "      <td>6532</td>\n",
       "      <td>6532</td>\n",
       "      <td>6532</td>\n",
       "      <td>6532</td>\n",
       "      <td>6532</td>\n",
       "      <td>6532</td>\n",
       "      <td>6532</td>\n",
       "      <td>6532</td>\n",
       "    </tr>\n",
       "    <tr>\n",
       "      <th>scooter</th>\n",
       "      <td>3825</td>\n",
       "      <td>3825</td>\n",
       "      <td>3825</td>\n",
       "      <td>3825</td>\n",
       "      <td>3825</td>\n",
       "      <td>3825</td>\n",
       "      <td>3825</td>\n",
       "      <td>3825</td>\n",
       "      <td>3825</td>\n",
       "    </tr>\n",
       "    <tr>\n",
       "      <th rowspan=\"4\" valign=\"top\">Meal</th>\n",
       "      <th>bicycle</th>\n",
       "      <td>23</td>\n",
       "      <td>23</td>\n",
       "      <td>23</td>\n",
       "      <td>23</td>\n",
       "      <td>23</td>\n",
       "      <td>23</td>\n",
       "      <td>23</td>\n",
       "      <td>23</td>\n",
       "      <td>23</td>\n",
       "    </tr>\n",
       "    <tr>\n",
       "      <th>electric_scooter</th>\n",
       "      <td>948</td>\n",
       "      <td>948</td>\n",
       "      <td>948</td>\n",
       "      <td>948</td>\n",
       "      <td>948</td>\n",
       "      <td>948</td>\n",
       "      <td>948</td>\n",
       "      <td>948</td>\n",
       "      <td>948</td>\n",
       "    </tr>\n",
       "    <tr>\n",
       "      <th>motorcycle</th>\n",
       "      <td>6657</td>\n",
       "      <td>6657</td>\n",
       "      <td>6657</td>\n",
       "      <td>6657</td>\n",
       "      <td>6657</td>\n",
       "      <td>6657</td>\n",
       "      <td>6657</td>\n",
       "      <td>6657</td>\n",
       "      <td>6657</td>\n",
       "    </tr>\n",
       "    <tr>\n",
       "      <th>scooter</th>\n",
       "      <td>3830</td>\n",
       "      <td>3830</td>\n",
       "      <td>3830</td>\n",
       "      <td>3830</td>\n",
       "      <td>3830</td>\n",
       "      <td>3830</td>\n",
       "      <td>3830</td>\n",
       "      <td>3830</td>\n",
       "      <td>3830</td>\n",
       "    </tr>\n",
       "    <tr>\n",
       "      <th rowspan=\"4\" valign=\"top\">Snack</th>\n",
       "      <th>bicycle</th>\n",
       "      <td>14</td>\n",
       "      <td>14</td>\n",
       "      <td>14</td>\n",
       "      <td>14</td>\n",
       "      <td>14</td>\n",
       "      <td>14</td>\n",
       "      <td>14</td>\n",
       "      <td>14</td>\n",
       "      <td>14</td>\n",
       "    </tr>\n",
       "    <tr>\n",
       "      <th>electric_scooter</th>\n",
       "      <td>974</td>\n",
       "      <td>974</td>\n",
       "      <td>974</td>\n",
       "      <td>974</td>\n",
       "      <td>974</td>\n",
       "      <td>974</td>\n",
       "      <td>974</td>\n",
       "      <td>974</td>\n",
       "      <td>974</td>\n",
       "    </tr>\n",
       "    <tr>\n",
       "      <th>motorcycle</th>\n",
       "      <td>6651</td>\n",
       "      <td>6651</td>\n",
       "      <td>6651</td>\n",
       "      <td>6651</td>\n",
       "      <td>6651</td>\n",
       "      <td>6651</td>\n",
       "      <td>6651</td>\n",
       "      <td>6651</td>\n",
       "      <td>6651</td>\n",
       "    </tr>\n",
       "    <tr>\n",
       "      <th>scooter</th>\n",
       "      <td>3894</td>\n",
       "      <td>3894</td>\n",
       "      <td>3894</td>\n",
       "      <td>3894</td>\n",
       "      <td>3894</td>\n",
       "      <td>3894</td>\n",
       "      <td>3894</td>\n",
       "      <td>3894</td>\n",
       "      <td>3894</td>\n",
       "    </tr>\n",
       "  </tbody>\n",
       "</table>\n",
       "</div>"
      ],
      "text/plain": [
       "                               ID  Delivery_person_ID  Rider_Age  \\\n",
       "Order_Type Vehicle                                                 \n",
       "Buffet     bicycle             15                  15         15   \n",
       "           electric_scooter   943                 943        943   \n",
       "           motorcycle        6595                6595       6595   \n",
       "           scooter           3727                3727       3727   \n",
       "Drinks     bicycle             16                  16         16   \n",
       "           electric_scooter   949                 949        949   \n",
       "           motorcycle        6532                6532       6532   \n",
       "           scooter           3825                3825       3825   \n",
       "Meal       bicycle             23                  23         23   \n",
       "           electric_scooter   948                 948        948   \n",
       "           motorcycle        6657                6657       6657   \n",
       "           scooter           3830                3830       3830   \n",
       "Snack      bicycle             14                  14         14   \n",
       "           electric_scooter   974                 974        974   \n",
       "           motorcycle        6651                6651       6651   \n",
       "           scooter           3894                3894       3894   \n",
       "\n",
       "                             Rider_Ratings  Restaurant_latitude  \\\n",
       "Order_Type Vehicle                                                \n",
       "Buffet     bicycle                      15                   15   \n",
       "           electric_scooter            943                  943   \n",
       "           motorcycle                 6595                 6595   \n",
       "           scooter                    3727                 3727   \n",
       "Drinks     bicycle                      16                   16   \n",
       "           electric_scooter            949                  949   \n",
       "           motorcycle                 6532                 6532   \n",
       "           scooter                    3825                 3825   \n",
       "Meal       bicycle                      23                   23   \n",
       "           electric_scooter            948                  948   \n",
       "           motorcycle                 6657                 6657   \n",
       "           scooter                    3830                 3830   \n",
       "Snack      bicycle                      14                   14   \n",
       "           electric_scooter            974                  974   \n",
       "           motorcycle                 6651                 6651   \n",
       "           scooter                    3894                 3894   \n",
       "\n",
       "                             Restaurant_longitude  Customer_latitude  \\\n",
       "Order_Type Vehicle                                                     \n",
       "Buffet     bicycle                             15                 15   \n",
       "           electric_scooter                   943                943   \n",
       "           motorcycle                        6595               6595   \n",
       "           scooter                           3727               3727   \n",
       "Drinks     bicycle                             16                 16   \n",
       "           electric_scooter                   949                949   \n",
       "           motorcycle                        6532               6532   \n",
       "           scooter                           3825               3825   \n",
       "Meal       bicycle                             23                 23   \n",
       "           electric_scooter                   948                948   \n",
       "           motorcycle                        6657               6657   \n",
       "           scooter                           3830               3830   \n",
       "Snack      bicycle                             14                 14   \n",
       "           electric_scooter                   974                974   \n",
       "           motorcycle                        6651               6651   \n",
       "           scooter                           3894               3894   \n",
       "\n",
       "                             Customer_longitude  Time  \n",
       "Order_Type Vehicle                                     \n",
       "Buffet     bicycle                           15    15  \n",
       "           electric_scooter                 943   943  \n",
       "           motorcycle                      6595  6595  \n",
       "           scooter                         3727  3727  \n",
       "Drinks     bicycle                           16    16  \n",
       "           electric_scooter                 949   949  \n",
       "           motorcycle                      6532  6532  \n",
       "           scooter                         3825  3825  \n",
       "Meal       bicycle                           23    23  \n",
       "           electric_scooter                 948   948  \n",
       "           motorcycle                      6657  6657  \n",
       "           scooter                         3830  3830  \n",
       "Snack      bicycle                           14    14  \n",
       "           electric_scooter                 974   974  \n",
       "           motorcycle                      6651  6651  \n",
       "           scooter                         3894  3894  "
      ]
     },
     "execution_count": 69,
     "metadata": {},
     "output_type": "execute_result"
    }
   ],
   "source": [
    "food_deli_data.groupby( [\"Order_Type\", \"Vehicle\"] ).count()"
   ]
  },
  {
   "cell_type": "markdown",
   "metadata": {},
   "source": [
    "We can also view data in a specific group using `get_group`."
   ]
  },
  {
   "cell_type": "code",
   "execution_count": 70,
   "metadata": {},
   "outputs": [
    {
     "data": {
      "text/html": [
       "<div>\n",
       "<style scoped>\n",
       "    .dataframe tbody tr th:only-of-type {\n",
       "        vertical-align: middle;\n",
       "    }\n",
       "\n",
       "    .dataframe tbody tr th {\n",
       "        vertical-align: top;\n",
       "    }\n",
       "\n",
       "    .dataframe thead th {\n",
       "        text-align: right;\n",
       "    }\n",
       "</style>\n",
       "<table border=\"1\" class=\"dataframe\">\n",
       "  <thead>\n",
       "    <tr style=\"text-align: right;\">\n",
       "      <th></th>\n",
       "      <th>ID</th>\n",
       "      <th>Delivery_person_ID</th>\n",
       "      <th>Rider_Age</th>\n",
       "      <th>Rider_Ratings</th>\n",
       "      <th>Restaurant_latitude</th>\n",
       "      <th>Restaurant_longitude</th>\n",
       "      <th>Customer_latitude</th>\n",
       "      <th>Customer_longitude</th>\n",
       "      <th>Order_Type</th>\n",
       "      <th>Vehicle</th>\n",
       "      <th>Time</th>\n",
       "    </tr>\n",
       "  </thead>\n",
       "  <tbody>\n",
       "    <tr>\n",
       "      <th>2</th>\n",
       "      <td>5D6D</td>\n",
       "      <td>BANGRES19DEL01</td>\n",
       "      <td>23</td>\n",
       "      <td>4.4</td>\n",
       "      <td>12.914264</td>\n",
       "      <td>77.678400</td>\n",
       "      <td>12.924264</td>\n",
       "      <td>77.688400</td>\n",
       "      <td>Drinks</td>\n",
       "      <td>motorcycle</td>\n",
       "      <td>26</td>\n",
       "    </tr>\n",
       "    <tr>\n",
       "      <th>29</th>\n",
       "      <td>2999999999999999848161405891222056600890935033...</td>\n",
       "      <td>COIMBRES02DEL03</td>\n",
       "      <td>31</td>\n",
       "      <td>4.8</td>\n",
       "      <td>11.022477</td>\n",
       "      <td>76.995667</td>\n",
       "      <td>11.052477</td>\n",
       "      <td>77.025667</td>\n",
       "      <td>Drinks</td>\n",
       "      <td>motorcycle</td>\n",
       "      <td>26</td>\n",
       "    </tr>\n",
       "    <tr>\n",
       "      <th>30</th>\n",
       "      <td>BFF</td>\n",
       "      <td>SURRES16DEL02</td>\n",
       "      <td>36</td>\n",
       "      <td>4.1</td>\n",
       "      <td>21.160437</td>\n",
       "      <td>72.774209</td>\n",
       "      <td>21.210437</td>\n",
       "      <td>72.824209</td>\n",
       "      <td>Drinks</td>\n",
       "      <td>motorcycle</td>\n",
       "      <td>22</td>\n",
       "    </tr>\n",
       "    <tr>\n",
       "      <th>48</th>\n",
       "      <td>A30B</td>\n",
       "      <td>CHENRES11DEL01</td>\n",
       "      <td>37</td>\n",
       "      <td>4.8</td>\n",
       "      <td>13.064181</td>\n",
       "      <td>80.236442</td>\n",
       "      <td>13.104181</td>\n",
       "      <td>80.276442</td>\n",
       "      <td>Drinks</td>\n",
       "      <td>motorcycle</td>\n",
       "      <td>26</td>\n",
       "    </tr>\n",
       "    <tr>\n",
       "      <th>53</th>\n",
       "      <td>7AC8</td>\n",
       "      <td>COIMBRES14DEL02</td>\n",
       "      <td>28</td>\n",
       "      <td>4.8</td>\n",
       "      <td>11.003681</td>\n",
       "      <td>76.975525</td>\n",
       "      <td>11.083681</td>\n",
       "      <td>77.055525</td>\n",
       "      <td>Drinks</td>\n",
       "      <td>motorcycle</td>\n",
       "      <td>36</td>\n",
       "    </tr>\n",
       "    <tr>\n",
       "      <th>...</th>\n",
       "      <td>...</td>\n",
       "      <td>...</td>\n",
       "      <td>...</td>\n",
       "      <td>...</td>\n",
       "      <td>...</td>\n",
       "      <td>...</td>\n",
       "      <td>...</td>\n",
       "      <td>...</td>\n",
       "      <td>...</td>\n",
       "      <td>...</td>\n",
       "      <td>...</td>\n",
       "    </tr>\n",
       "    <tr>\n",
       "      <th>45572</th>\n",
       "      <td>1A92</td>\n",
       "      <td>CHENRES12DEL03</td>\n",
       "      <td>39</td>\n",
       "      <td>4.6</td>\n",
       "      <td>12.972793</td>\n",
       "      <td>80.249982</td>\n",
       "      <td>13.062793</td>\n",
       "      <td>80.339982</td>\n",
       "      <td>Drinks</td>\n",
       "      <td>motorcycle</td>\n",
       "      <td>48</td>\n",
       "    </tr>\n",
       "    <tr>\n",
       "      <th>45574</th>\n",
       "      <td>90C5</td>\n",
       "      <td>MUMRES20DEL03</td>\n",
       "      <td>21</td>\n",
       "      <td>4.8</td>\n",
       "      <td>19.103249</td>\n",
       "      <td>72.846749</td>\n",
       "      <td>19.133249</td>\n",
       "      <td>72.876749</td>\n",
       "      <td>Drinks</td>\n",
       "      <td>motorcycle</td>\n",
       "      <td>22</td>\n",
       "    </tr>\n",
       "    <tr>\n",
       "      <th>45576</th>\n",
       "      <td>2BED</td>\n",
       "      <td>RANCHIRES02DEL02</td>\n",
       "      <td>34</td>\n",
       "      <td>4.2</td>\n",
       "      <td>0.000000</td>\n",
       "      <td>0.000000</td>\n",
       "      <td>0.130000</td>\n",
       "      <td>0.130000</td>\n",
       "      <td>Drinks</td>\n",
       "      <td>motorcycle</td>\n",
       "      <td>48</td>\n",
       "    </tr>\n",
       "    <tr>\n",
       "      <th>45581</th>\n",
       "      <td>51F0</td>\n",
       "      <td>SURRES02DEL03</td>\n",
       "      <td>20</td>\n",
       "      <td>4.9</td>\n",
       "      <td>21.186608</td>\n",
       "      <td>72.794136</td>\n",
       "      <td>21.216608</td>\n",
       "      <td>72.824136</td>\n",
       "      <td>Drinks</td>\n",
       "      <td>motorcycle</td>\n",
       "      <td>18</td>\n",
       "    </tr>\n",
       "    <tr>\n",
       "      <th>45587</th>\n",
       "      <td>1178</td>\n",
       "      <td>RANCHIRES16DEL01</td>\n",
       "      <td>35</td>\n",
       "      <td>4.2</td>\n",
       "      <td>23.371292</td>\n",
       "      <td>85.327872</td>\n",
       "      <td>23.481292</td>\n",
       "      <td>85.437872</td>\n",
       "      <td>Drinks</td>\n",
       "      <td>motorcycle</td>\n",
       "      <td>33</td>\n",
       "    </tr>\n",
       "  </tbody>\n",
       "</table>\n",
       "<p>6532 rows × 11 columns</p>\n",
       "</div>"
      ],
      "text/plain": [
       "                                                      ID Delivery_person_ID  \\\n",
       "2                                                   5D6D     BANGRES19DEL01   \n",
       "29     2999999999999999848161405891222056600890935033...    COIMBRES02DEL03   \n",
       "30                                                   BFF      SURRES16DEL02   \n",
       "48                                                  A30B     CHENRES11DEL01   \n",
       "53                                                  7AC8    COIMBRES14DEL02   \n",
       "...                                                  ...                ...   \n",
       "45572                                               1A92     CHENRES12DEL03   \n",
       "45574                                               90C5      MUMRES20DEL03   \n",
       "45576                                               2BED   RANCHIRES02DEL02   \n",
       "45581                                               51F0      SURRES02DEL03   \n",
       "45587                                               1178   RANCHIRES16DEL01   \n",
       "\n",
       "       Rider_Age  Rider_Ratings  Restaurant_latitude  Restaurant_longitude  \\\n",
       "2             23            4.4            12.914264             77.678400   \n",
       "29            31            4.8            11.022477             76.995667   \n",
       "30            36            4.1            21.160437             72.774209   \n",
       "48            37            4.8            13.064181             80.236442   \n",
       "53            28            4.8            11.003681             76.975525   \n",
       "...          ...            ...                  ...                   ...   \n",
       "45572         39            4.6            12.972793             80.249982   \n",
       "45574         21            4.8            19.103249             72.846749   \n",
       "45576         34            4.2             0.000000              0.000000   \n",
       "45581         20            4.9            21.186608             72.794136   \n",
       "45587         35            4.2            23.371292             85.327872   \n",
       "\n",
       "       Customer_latitude  Customer_longitude Order_Type     Vehicle  Time  \n",
       "2              12.924264           77.688400     Drinks  motorcycle    26  \n",
       "29             11.052477           77.025667     Drinks  motorcycle    26  \n",
       "30             21.210437           72.824209     Drinks  motorcycle    22  \n",
       "48             13.104181           80.276442     Drinks  motorcycle    26  \n",
       "53             11.083681           77.055525     Drinks  motorcycle    36  \n",
       "...                  ...                 ...        ...         ...   ...  \n",
       "45572          13.062793           80.339982     Drinks  motorcycle    48  \n",
       "45574          19.133249           72.876749     Drinks  motorcycle    22  \n",
       "45576           0.130000            0.130000     Drinks  motorcycle    48  \n",
       "45581          21.216608           72.824136     Drinks  motorcycle    18  \n",
       "45587          23.481292           85.437872     Drinks  motorcycle    33  \n",
       "\n",
       "[6532 rows x 11 columns]"
      ]
     },
     "execution_count": 70,
     "metadata": {},
     "output_type": "execute_result"
    }
   ],
   "source": [
    "food_deli_data.groupby( [\"Order_Type\", \"Vehicle\"] ).get_group( (\"Drinks\", \"motorcycle\") )"
   ]
  },
  {
   "cell_type": "markdown",
   "metadata": {
    "id": "oCJCeQIaq-hC"
   },
   "source": [
    "As mentioned, however, we typically want to apply some operation to the GroupBy object.\n",
    "\n",
    "__EXERCISE:__ \n",
    "\n",
    "Find the median delivery times for this dataset, grouped by vehicle types. "
   ]
  },
  {
   "cell_type": "code",
   "execution_count": 71,
   "metadata": {},
   "outputs": [
    {
     "data": {
      "text/html": [
       "<div>\n",
       "<style scoped>\n",
       "    .dataframe tbody tr th:only-of-type {\n",
       "        vertical-align: middle;\n",
       "    }\n",
       "\n",
       "    .dataframe tbody tr th {\n",
       "        vertical-align: top;\n",
       "    }\n",
       "\n",
       "    .dataframe thead th {\n",
       "        text-align: right;\n",
       "    }\n",
       "</style>\n",
       "<table border=\"1\" class=\"dataframe\">\n",
       "  <thead>\n",
       "    <tr style=\"text-align: right;\">\n",
       "      <th></th>\n",
       "      <th>ID</th>\n",
       "      <th>Delivery_person_ID</th>\n",
       "      <th>Rider_Age</th>\n",
       "      <th>Rider_Ratings</th>\n",
       "      <th>Restaurant_latitude</th>\n",
       "      <th>Restaurant_longitude</th>\n",
       "      <th>Customer_latitude</th>\n",
       "      <th>Customer_longitude</th>\n",
       "      <th>Order_Type</th>\n",
       "      <th>Vehicle</th>\n",
       "      <th>Time</th>\n",
       "    </tr>\n",
       "  </thead>\n",
       "  <tbody>\n",
       "    <tr>\n",
       "      <th>0</th>\n",
       "      <td>4607</td>\n",
       "      <td>INDORES13DEL02</td>\n",
       "      <td>37</td>\n",
       "      <td>4.9</td>\n",
       "      <td>22.745049</td>\n",
       "      <td>75.892471</td>\n",
       "      <td>22.765049</td>\n",
       "      <td>75.912471</td>\n",
       "      <td>Snack</td>\n",
       "      <td>motorcycle</td>\n",
       "      <td>24</td>\n",
       "    </tr>\n",
       "    <tr>\n",
       "      <th>2</th>\n",
       "      <td>5D6D</td>\n",
       "      <td>BANGRES19DEL01</td>\n",
       "      <td>23</td>\n",
       "      <td>4.4</td>\n",
       "      <td>12.914264</td>\n",
       "      <td>77.678400</td>\n",
       "      <td>12.924264</td>\n",
       "      <td>77.688400</td>\n",
       "      <td>Drinks</td>\n",
       "      <td>motorcycle</td>\n",
       "      <td>26</td>\n",
       "    </tr>\n",
       "    <tr>\n",
       "      <th>3</th>\n",
       "      <td>7A6A</td>\n",
       "      <td>COIMBRES13DEL02</td>\n",
       "      <td>38</td>\n",
       "      <td>4.7</td>\n",
       "      <td>11.003669</td>\n",
       "      <td>76.976494</td>\n",
       "      <td>11.053669</td>\n",
       "      <td>77.026494</td>\n",
       "      <td>Buffet</td>\n",
       "      <td>motorcycle</td>\n",
       "      <td>21</td>\n",
       "    </tr>\n",
       "    <tr>\n",
       "      <th>5</th>\n",
       "      <td>9BB4</td>\n",
       "      <td>HYDRES09DEL03</td>\n",
       "      <td>22</td>\n",
       "      <td>4.8</td>\n",
       "      <td>17.431668</td>\n",
       "      <td>78.408321</td>\n",
       "      <td>17.461668</td>\n",
       "      <td>78.438321</td>\n",
       "      <td>Buffet</td>\n",
       "      <td>motorcycle</td>\n",
       "      <td>26</td>\n",
       "    </tr>\n",
       "    <tr>\n",
       "      <th>7</th>\n",
       "      <td>9EB2</td>\n",
       "      <td>MYSRES15DEL02</td>\n",
       "      <td>35</td>\n",
       "      <td>4.6</td>\n",
       "      <td>12.352058</td>\n",
       "      <td>76.606650</td>\n",
       "      <td>12.482058</td>\n",
       "      <td>76.736650</td>\n",
       "      <td>Meal</td>\n",
       "      <td>motorcycle</td>\n",
       "      <td>32</td>\n",
       "    </tr>\n",
       "    <tr>\n",
       "      <th>...</th>\n",
       "      <td>...</td>\n",
       "      <td>...</td>\n",
       "      <td>...</td>\n",
       "      <td>...</td>\n",
       "      <td>...</td>\n",
       "      <td>...</td>\n",
       "      <td>...</td>\n",
       "      <td>...</td>\n",
       "      <td>...</td>\n",
       "      <td>...</td>\n",
       "      <td>...</td>\n",
       "    </tr>\n",
       "    <tr>\n",
       "      <th>45585</th>\n",
       "      <td>C9AB</td>\n",
       "      <td>KNPRES03DEL01</td>\n",
       "      <td>30</td>\n",
       "      <td>4.2</td>\n",
       "      <td>26.469003</td>\n",
       "      <td>80.316344</td>\n",
       "      <td>26.539003</td>\n",
       "      <td>80.386344</td>\n",
       "      <td>Snack</td>\n",
       "      <td>motorcycle</td>\n",
       "      <td>42</td>\n",
       "    </tr>\n",
       "    <tr>\n",
       "      <th>45587</th>\n",
       "      <td>1178</td>\n",
       "      <td>RANCHIRES16DEL01</td>\n",
       "      <td>35</td>\n",
       "      <td>4.2</td>\n",
       "      <td>23.371292</td>\n",
       "      <td>85.327872</td>\n",
       "      <td>23.481292</td>\n",
       "      <td>85.437872</td>\n",
       "      <td>Drinks</td>\n",
       "      <td>motorcycle</td>\n",
       "      <td>33</td>\n",
       "    </tr>\n",
       "    <tr>\n",
       "      <th>45588</th>\n",
       "      <td>7C09</td>\n",
       "      <td>JAPRES04DEL01</td>\n",
       "      <td>30</td>\n",
       "      <td>4.8</td>\n",
       "      <td>26.902328</td>\n",
       "      <td>75.794257</td>\n",
       "      <td>26.912328</td>\n",
       "      <td>75.804257</td>\n",
       "      <td>Meal</td>\n",
       "      <td>motorcycle</td>\n",
       "      <td>32</td>\n",
       "    </tr>\n",
       "    <tr>\n",
       "      <th>45589</th>\n",
       "      <td>D641</td>\n",
       "      <td>AGRRES16DEL01</td>\n",
       "      <td>21</td>\n",
       "      <td>4.6</td>\n",
       "      <td>0.000000</td>\n",
       "      <td>0.000000</td>\n",
       "      <td>0.070000</td>\n",
       "      <td>0.070000</td>\n",
       "      <td>Buffet</td>\n",
       "      <td>motorcycle</td>\n",
       "      <td>36</td>\n",
       "    </tr>\n",
       "    <tr>\n",
       "      <th>45591</th>\n",
       "      <td>5EEE</td>\n",
       "      <td>COIMBRES11DEL01</td>\n",
       "      <td>20</td>\n",
       "      <td>4.7</td>\n",
       "      <td>11.001753</td>\n",
       "      <td>76.986241</td>\n",
       "      <td>11.041753</td>\n",
       "      <td>77.026241</td>\n",
       "      <td>Snack</td>\n",
       "      <td>motorcycle</td>\n",
       "      <td>26</td>\n",
       "    </tr>\n",
       "  </tbody>\n",
       "</table>\n",
       "<p>26435 rows × 11 columns</p>\n",
       "</div>"
      ],
      "text/plain": [
       "         ID Delivery_person_ID  Rider_Age  Rider_Ratings  Restaurant_latitude  \\\n",
       "0      4607     INDORES13DEL02         37            4.9            22.745049   \n",
       "2      5D6D     BANGRES19DEL01         23            4.4            12.914264   \n",
       "3      7A6A    COIMBRES13DEL02         38            4.7            11.003669   \n",
       "5      9BB4      HYDRES09DEL03         22            4.8            17.431668   \n",
       "7      9EB2      MYSRES15DEL02         35            4.6            12.352058   \n",
       "...     ...                ...        ...            ...                  ...   \n",
       "45585  C9AB      KNPRES03DEL01         30            4.2            26.469003   \n",
       "45587  1178   RANCHIRES16DEL01         35            4.2            23.371292   \n",
       "45588  7C09      JAPRES04DEL01         30            4.8            26.902328   \n",
       "45589  D641      AGRRES16DEL01         21            4.6             0.000000   \n",
       "45591  5EEE    COIMBRES11DEL01         20            4.7            11.001753   \n",
       "\n",
       "       Restaurant_longitude  Customer_latitude  Customer_longitude Order_Type  \\\n",
       "0                 75.892471          22.765049           75.912471      Snack   \n",
       "2                 77.678400          12.924264           77.688400     Drinks   \n",
       "3                 76.976494          11.053669           77.026494     Buffet   \n",
       "5                 78.408321          17.461668           78.438321     Buffet   \n",
       "7                 76.606650          12.482058           76.736650       Meal   \n",
       "...                     ...                ...                 ...        ...   \n",
       "45585             80.316344          26.539003           80.386344      Snack   \n",
       "45587             85.327872          23.481292           85.437872     Drinks   \n",
       "45588             75.794257          26.912328           75.804257       Meal   \n",
       "45589              0.000000           0.070000            0.070000     Buffet   \n",
       "45591             76.986241          11.041753           77.026241      Snack   \n",
       "\n",
       "          Vehicle  Time  \n",
       "0      motorcycle    24  \n",
       "2      motorcycle    26  \n",
       "3      motorcycle    21  \n",
       "5      motorcycle    26  \n",
       "7      motorcycle    32  \n",
       "...           ...   ...  \n",
       "45585  motorcycle    42  \n",
       "45587  motorcycle    33  \n",
       "45588  motorcycle    32  \n",
       "45589  motorcycle    36  \n",
       "45591  motorcycle    26  \n",
       "\n",
       "[26435 rows x 11 columns]"
      ]
     },
     "execution_count": 71,
     "metadata": {},
     "output_type": "execute_result"
    }
   ],
   "source": [
    "# TODO\n",
    "food_deli_data.groupby([\"Vehicle\"]).get_group(('motorcycle'))"
   ]
  },
  {
   "cell_type": "markdown",
   "metadata": {},
   "source": [
    "### Filtering Rows\n",
    "\n",
    "Another useful operation is filtering rows, which is usually done as an indexing operation as we learned previously. We specify as index, a condition involving the values in certain column, e.g.:\n",
    "\n",
    "- `delivery[\"Vehicle\"] == \"scooter\"` or\n",
    "- `delivery[\"Rider_Age\"] > 25`\n",
    "\n",
    "These are arithmetic expressions which will be evaluated element-wise on the columns `delivery[\"Vehicle\"]` or `delivery[\"Rider_Age\"]`, resulting in a Series of boolean values: `True` for rows fulfilling the condition and `False` otherwise. Indexing `delivery` using this boolean Series will select only rows corresponding to `True` values.\n",
    "\n",
    "__EXERCISE:__ \n",
    "\n",
    "An order just came in and we are looking for riders on scooters to assign it to. How many riders can we choose from?\n",
    "\n",
    "_Hint:_ After filtering, what is the column we should be looking at? What Series function can you use to obtain the unique count?"
   ]
  },
  {
   "cell_type": "code",
   "execution_count": 72,
   "metadata": {},
   "outputs": [
    {
     "data": {
      "text/plain": [
       "False    30317\n",
       "True     15276\n",
       "Name: Vehicle, dtype: int64"
      ]
     },
     "execution_count": 72,
     "metadata": {},
     "output_type": "execute_result"
    }
   ],
   "source": [
    "# TODO\n",
    "#food_deli_data[food_deli_data[\"Vehicle\"]==\"scooter\"] - to select all data satisfying this column condition\n",
    "\n",
    "is_Scooter = food_deli_data[\"Vehicle\"]==\"scooter\"\n",
    "is_Scooter.value_counts()\n"
   ]
  },
  {
   "cell_type": "markdown",
   "metadata": {},
   "source": [
    "__EXERCISE:__ \n",
    "\n",
    "How many of these scooter riders have achieved ratings higher than the median of this group?"
   ]
  },
  {
   "cell_type": "code",
   "execution_count": 73,
   "metadata": {},
   "outputs": [
    {
     "data": {
      "text/plain": [
       "False    8905\n",
       "True     6371\n",
       "Name: Rider_Ratings, dtype: int64"
      ]
     },
     "execution_count": 73,
     "metadata": {},
     "output_type": "execute_result"
    }
   ],
   "source": [
    "# TODO\n",
    "scooter_orders = food_deli_data[food_deli_data[\"Vehicle\"]==\"scooter\"]\n",
    "scooter_orders_median_rating = scooter_orders['Rider_Ratings'].median()\n",
    "scooter_orders_more_than_median = scooter_orders[\"Rider_Ratings\"]>scooter_orders_median_rating\n",
    "scooter_orders_more_than_median.value_counts()"
   ]
  },
  {
   "cell_type": "markdown",
   "metadata": {},
   "source": [
    "__EXERCISE:__ \n",
    "\n",
    "What is the highest ratings that scooter riders have achieved? Show the IDs of all scooter riders who have achieved it."
   ]
  },
  {
   "cell_type": "code",
   "execution_count": 74,
   "metadata": {},
   "outputs": [
    {
     "data": {
      "text/plain": [
       "6        95B4\n",
       "11       2784\n",
       "13       DB64\n",
       "36       B3A0\n",
       "70       8B53\n",
       "         ... \n",
       "45515    B0E5\n",
       "45522    5046\n",
       "45523    4B93\n",
       "45525    3830\n",
       "45567     E2C\n",
       "Name: ID, Length: 2507, dtype: object"
      ]
     },
     "execution_count": 74,
     "metadata": {},
     "output_type": "execute_result"
    }
   ],
   "source": [
    "# TODO\n",
    "highestrating_scooter_orders = scooter_orders[scooter_orders[\"Rider_Ratings\"]==scooter_orders_median_rating]\n",
    "highestrating_scooter_orders[\"ID\"]"
   ]
  },
  {
   "cell_type": "markdown",
   "metadata": {},
   "source": [
    "As a final exercise in this section, suppose we pick any scooter rider who have achieved ratings higher than the median to deliver all orders. Consider how we may satisfactorily estimate a delivery time to inform the customers.\n",
    "\n",
    "__EXERCISE:__\n",
    "\n",
    "First, let's try to obtain the summary statistics for the delivery time of this group."
   ]
  },
  {
   "cell_type": "code",
   "execution_count": 75,
   "metadata": {},
   "outputs": [
    {
     "data": {
      "text/html": [
       "<div>\n",
       "<style scoped>\n",
       "    .dataframe tbody tr th:only-of-type {\n",
       "        vertical-align: middle;\n",
       "    }\n",
       "\n",
       "    .dataframe tbody tr th {\n",
       "        vertical-align: top;\n",
       "    }\n",
       "\n",
       "    .dataframe thead th {\n",
       "        text-align: right;\n",
       "    }\n",
       "</style>\n",
       "<table border=\"1\" class=\"dataframe\">\n",
       "  <thead>\n",
       "    <tr style=\"text-align: right;\">\n",
       "      <th></th>\n",
       "      <th>Rider_Age</th>\n",
       "      <th>Rider_Ratings</th>\n",
       "      <th>Restaurant_latitude</th>\n",
       "      <th>Restaurant_longitude</th>\n",
       "      <th>Customer_latitude</th>\n",
       "      <th>Customer_longitude</th>\n",
       "      <th>Time</th>\n",
       "    </tr>\n",
       "  </thead>\n",
       "  <tbody>\n",
       "    <tr>\n",
       "      <th>count</th>\n",
       "      <td>15276.000000</td>\n",
       "      <td>15276.000000</td>\n",
       "      <td>15276.000000</td>\n",
       "      <td>15276.000000</td>\n",
       "      <td>15276.000000</td>\n",
       "      <td>15276.000000</td>\n",
       "      <td>15276.000000</td>\n",
       "    </tr>\n",
       "    <tr>\n",
       "      <th>mean</th>\n",
       "      <td>29.512438</td>\n",
       "      <td>4.641968</td>\n",
       "      <td>16.955998</td>\n",
       "      <td>70.000225</td>\n",
       "      <td>17.426390</td>\n",
       "      <td>70.719671</td>\n",
       "      <td>24.480754</td>\n",
       "    </tr>\n",
       "    <tr>\n",
       "      <th>std</th>\n",
       "      <td>5.706932</td>\n",
       "      <td>0.339903</td>\n",
       "      <td>8.281093</td>\n",
       "      <td>23.390611</td>\n",
       "      <td>7.392335</td>\n",
       "      <td>21.328826</td>\n",
       "      <td>8.704238</td>\n",
       "    </tr>\n",
       "    <tr>\n",
       "      <th>min</th>\n",
       "      <td>15.000000</td>\n",
       "      <td>1.000000</td>\n",
       "      <td>-30.905562</td>\n",
       "      <td>-88.366217</td>\n",
       "      <td>0.010000</td>\n",
       "      <td>0.010000</td>\n",
       "      <td>10.000000</td>\n",
       "    </tr>\n",
       "    <tr>\n",
       "      <th>25%</th>\n",
       "      <td>25.000000</td>\n",
       "      <td>4.600000</td>\n",
       "      <td>12.913041</td>\n",
       "      <td>73.170212</td>\n",
       "      <td>12.983284</td>\n",
       "      <td>73.294798</td>\n",
       "      <td>17.000000</td>\n",
       "    </tr>\n",
       "    <tr>\n",
       "      <th>50%</th>\n",
       "      <td>29.000000</td>\n",
       "      <td>4.700000</td>\n",
       "      <td>18.546947</td>\n",
       "      <td>75.898497</td>\n",
       "      <td>18.632450</td>\n",
       "      <td>76.004377</td>\n",
       "      <td>24.000000</td>\n",
       "    </tr>\n",
       "    <tr>\n",
       "      <th>75%</th>\n",
       "      <td>34.000000</td>\n",
       "      <td>4.900000</td>\n",
       "      <td>22.732225</td>\n",
       "      <td>78.040267</td>\n",
       "      <td>22.790040</td>\n",
       "      <td>78.095053</td>\n",
       "      <td>30.000000</td>\n",
       "    </tr>\n",
       "    <tr>\n",
       "      <th>max</th>\n",
       "      <td>50.000000</td>\n",
       "      <td>6.000000</td>\n",
       "      <td>30.914057</td>\n",
       "      <td>88.433452</td>\n",
       "      <td>31.045562</td>\n",
       "      <td>88.563452</td>\n",
       "      <td>54.000000</td>\n",
       "    </tr>\n",
       "  </tbody>\n",
       "</table>\n",
       "</div>"
      ],
      "text/plain": [
       "          Rider_Age  Rider_Ratings  Restaurant_latitude  Restaurant_longitude  \\\n",
       "count  15276.000000   15276.000000         15276.000000          15276.000000   \n",
       "mean      29.512438       4.641968            16.955998             70.000225   \n",
       "std        5.706932       0.339903             8.281093             23.390611   \n",
       "min       15.000000       1.000000           -30.905562            -88.366217   \n",
       "25%       25.000000       4.600000            12.913041             73.170212   \n",
       "50%       29.000000       4.700000            18.546947             75.898497   \n",
       "75%       34.000000       4.900000            22.732225             78.040267   \n",
       "max       50.000000       6.000000            30.914057             88.433452   \n",
       "\n",
       "       Customer_latitude  Customer_longitude          Time  \n",
       "count       15276.000000        15276.000000  15276.000000  \n",
       "mean           17.426390           70.719671     24.480754  \n",
       "std             7.392335           21.328826      8.704238  \n",
       "min             0.010000            0.010000     10.000000  \n",
       "25%            12.983284           73.294798     17.000000  \n",
       "50%            18.632450           76.004377     24.000000  \n",
       "75%            22.790040           78.095053     30.000000  \n",
       "max            31.045562           88.563452     54.000000  "
      ]
     },
     "execution_count": 75,
     "metadata": {},
     "output_type": "execute_result"
    }
   ],
   "source": [
    "# TODO\n",
    "scooter_orders.describe()"
   ]
  },
  {
   "cell_type": "markdown",
   "metadata": {},
   "source": [
    "If the mean and median (equal to the 50% percentile) values are close, we might think it would be a reasonable estimate to provide. But what will happen if we give this estimate to all customers? Clearly about half the customers would be upset because they would not receive their food within this time.\n",
    "\n",
    "So should we take the maximum delivery time, and provide a guaranteed delivery time of `max`? We may soon lose many customers as most people would not want to wait that long for their food.\n",
    "\n",
    "Instead, looking at the delivery time distribution, using a histogram, may guide our estimate better.\n",
    "\n",
    "__EXERCISE:__\n",
    "\n",
    "Use the `Series.hist` function to draw the histogram of delivery time."
   ]
  },
  {
   "cell_type": "code",
   "execution_count": 82,
   "metadata": {},
   "outputs": [
    {
     "data": {
      "text/plain": [
       "<Axes: >"
      ]
     },
     "execution_count": 82,
     "metadata": {},
     "output_type": "execute_result"
    },
    {
     "data": {
      "image/png": "[encoded data removed]",
      "text/plain": [
       "<Figure size 640x480 with 1 Axes>"
      ]
     },
     "metadata": {},
     "output_type": "display_data"
    }
   ],
   "source": [
    "# TODO\n",
    "import seaborn as sns\n",
    "\n",
    "time_column = scooter_orders['Time']\n",
    "time_column.hist()\n",
    "\n"
   ]
  },
  {
   "cell_type": "code",
   "execution_count": 85,
   "metadata": {},
   "outputs": [
    {
     "data": {
      "text/plain": [
       "<Axes: xlabel='Time', ylabel='Count'>"
      ]
     },
     "execution_count": 85,
     "metadata": {},
     "output_type": "execute_result"
    },
    {
     "data": {
      "image/png": "[encoded data removed]",
      "text/plain": [
       "<Figure size 640x480 with 1 Axes>"
      ]
     },
     "metadata": {},
     "output_type": "display_data"
    }
   ],
   "source": [
    "sns.histplot(data=scooter_orders, x='Time', bins=10)"
   ]
  },
  {
   "cell_type": "markdown",
   "metadata": {},
   "source": [
    "Using the histogram, we can verify the time duration in which most orders can be delivered. On the rare occasions that it takes longer, it could be because the restaurants are overcrowded, or the traffic jams are worse than usual.\n",
    "\n",
    "We could then determine a reasonable time range to provide to customers, and inform them that it might take longer in certain unexpected situations."
   ]
  },
  {
   "cell_type": "markdown",
   "metadata": {
    "id": "GK98NTRUGR0s"
   },
   "source": [
    "# Probability Distributions with Scipy\n",
    "\n",
    "A _probability distribution_ describes phenomena that are influenced by random processes: naturally occurring random processes; or uncertainties caused by incomplete knowledge.\n",
    "\n",
    "The outcomes of a random process are called a _random variable, X_. The _distribution function_ maps probabilities to the occurrences of X.\n",
    "\n",
    "SciPy counts 104 continuous and 19 discrete distributions that can be instantiated in its `stats.rv_continuous` and `stats.rv_discrete` classes. Discrete distributions deal with countable outcomes, such as customers arriving at a counter. Continuous distributions compute the probability of occurrences between two outcomes or points on the x-axis, such as variations in height, temperature, or time.\n",
    "\n",
    "Distributions related to engineering and technology, which attempt to model, for instance, the lifetime or time to failure of equipment, as well as in biology and pharmaceutics, have blossomed in recent years, driven by the fast increasing availability of sensor data and other large sources of quantifiable information."
   ]
  },
  {
   "cell_type": "markdown",
   "metadata": {
    "id": "GK98NTRUGR0s"
   },
   "source": [
    "## Normal Distribution\n",
    "\n",
    "The normal distribution, also called the Gaussian distribution, is a continuous probability distribution that is symmetric around its mean. It is arguably the most famous distribution due to its mathematical properties and its ability to describe many natural phenomena. It is typically great for mapping population data, for example, household income distribution. \n",
    "\n",
    "The normal distribution is characterized by two parameters: \n",
    "- the _mean (μ)_, which represents the central tendency of the distribution; and\n",
    "- the _standard deviation (σ)_, which measures the spread or dispersion of the data.\n",
    "By knowing these two parameters, we can fully describe a normal distribution.\n",
    "\n",
    "#### Distribution Fitting\n",
    "\n",
    "Fitting a normal distribution to a dataset allows us to estimate these parameters from the dataset. The `norm.fit` function in `scipy.stats` takes an array-like object as input and returns the maximum likelihood estimates (MLE) for the mean and standard deviation of the underlying distribution.\n",
    "\n",
    "Let us fit a normal distribution to our observed dataset of delivery time. To use the SciPy function, we need this data in NumPy array format.\n",
    "\n",
    "__EXERCISE:__\n",
    "\n",
    "Convert the delivery time data into a NumPy array. "
   ]
  },
  {
   "cell_type": "code",
   "execution_count": 104,
   "metadata": {},
   "outputs": [
    {
     "data": {
      "text/plain": [
       "True"
      ]
     },
     "execution_count": 104,
     "metadata": {},
     "output_type": "execute_result"
    }
   ],
   "source": [
    "# TODO\n",
    "import numpy as np\n",
    "time_array = food_deli_data['Time'].to_numpy()\n",
    "isinstance(time_array, np.ndarray)"
   ]
  },
  {
   "cell_type": "markdown",
   "metadata": {},
   "source": [
    "__EXERCISE:__\n",
    "\n",
    "Now use the `norm.fit` function to fit the normal distribution to the data. Note that it returns two values, corresponding to the two parameters."
   ]
  },
  {
   "cell_type": "code",
   "execution_count": 108,
   "metadata": {},
   "outputs": [
    {
     "data": {
      "text/plain": [
       "26.29460662821047"
      ]
     },
     "execution_count": 108,
     "metadata": {},
     "output_type": "execute_result"
    }
   ],
   "source": [
    "# TODO\n",
    "import scipy.stats as sp\n",
    "\n",
    "mean, sd = sp.norm.fit(time_array)\n",
    "mean"
   ]
  },
  {
   "cell_type": "markdown",
   "metadata": {},
   "source": [
    "The mean is an estimator of the center of the distribution. The normal distribution distribution fit by SciPy should have the same center as the mean of the sample, as we have created a sample distribution.\n",
    "\n",
    "__EXERCISE:__\n",
    "\n",
    "Compute the mean of the sample array directly using NumPy, and verify that it has the same center."
   ]
  },
  {
   "cell_type": "code",
   "execution_count": 109,
   "metadata": {},
   "outputs": [
    {
     "data": {
      "text/plain": [
       "26.29460662821047"
      ]
     },
     "execution_count": 109,
     "metadata": {},
     "output_type": "execute_result"
    }
   ],
   "source": [
    "# TODO\n",
    "time_array.mean()"
   ]
  },
  {
   "cell_type": "markdown",
   "metadata": {
    "id": "GbEUbei9GR0u"
   },
   "source": [
    "# Hypothesis Testing using SciPy\n",
    "\n",
    "A statistical test is a decision indicator. For instance, if we have two sets of observations, that we assume are generated from Gaussian processes, we can use a t-test to decide whether the means of two sets of observations are significantly different. \n",
    "\n",
    "Supppose we want to determine whether the average delivery time using motorcycles is significantly different from the mean delivery time of 26 minutes.\n",
    "\n",
    "__EXERCISE:__\n",
    "\n",
    "Obtain the NumPy array containing delivery time data for motorcycles."
   ]
  },
  {
   "cell_type": "code",
   "execution_count": 115,
   "metadata": {},
   "outputs": [
    {
     "data": {
      "text/plain": [
       "(26435, 1)"
      ]
     },
     "execution_count": 115,
     "metadata": {},
     "output_type": "execute_result"
    }
   ],
   "source": [
    "# TODO\n",
    "time_array_motorcycle = food_deli_data[['Time']][food_deli_data['Vehicle']==\"motorcycle\"].to_numpy()\n",
    "isinstance(time_array_motorcycle, np.ndarray)\n",
    "time_array_motorcycle.shape"
   ]
  },
  {
   "cell_type": "markdown",
   "metadata": {
    "id": "GbEUbei9GR0u"
   },
   "source": [
    "Consider the null hypothesis that the expected value (mean) of the motorcycles delivery time samples is equal to the given population mean. The `stats.ttest_1samp` function does two-sided test and returns the t-statistic and p-value.\n",
    "\n",
    "__EXERCISE:__\n",
    "\n",
    "Run the `ttest_1samp` function on the motorcycles delivery time data and given population mean. Let the significance value be 0.05. Can we reject the null hypothesis?"
   ]
  },
  {
   "cell_type": "code",
   "execution_count": 119,
   "metadata": {
    "id": "-VGZ2kgjGR0u"
   },
   "outputs": [
    {
     "name": "stdout",
     "output_type": "stream",
     "text": [
      "27.60567429544165\n",
      "26.29460662821047\n"
     ]
    }
   ],
   "source": [
    "# TODO\n",
    "sp.ttest_1samp(time_array_motorcycle, food_deli_data['Time'].mean())\n",
    "print(time_array_motorcycle.mean())\n",
    "print(food_deli_data['Time'].mean())"
   ]
  },
  {
   "cell_type": "markdown",
   "metadata": {
    "id": "MzT_j4NEGR0u"
   },
   "source": [
    "Now let us investigate whether the mean delivery time using motorcycles is significantly different from the mean delivery time using bicycles.\n",
    "\n",
    "__EXERCISE:__\n",
    "\n",
    "Obtain the NumPy array containing delivery time data for bicycles."
   ]
  },
  {
   "cell_type": "code",
   "execution_count": 120,
   "metadata": {},
   "outputs": [],
   "source": [
    "# TODO\n",
    "time_array_bicycle = food_deli_data[['Time']][food_deli_data['Vehicle']==\"bicycle\"].to_numpy()"
   ]
  },
  {
   "cell_type": "markdown",
   "metadata": {
    "id": "MzT_j4NEGR0u"
   },
   "source": [
    "We can use the `stats.ttest_ind` function to do a two-sided test for the null hypothesis that the two independent samples have identical average (expected) values.\n",
    "\n",
    "__EXERCISE:__\n",
    "\n",
    "Run the `ttest_ind` function on the motorcycles delivery time data and the bicycle delivery time data. Let the significance value be 0.05. Can we reject the null hypothesis?"
   ]
  },
  {
   "cell_type": "code",
   "execution_count": 122,
   "metadata": {},
   "outputs": [
    {
     "data": {
      "text/plain": [
       "Ttest_indResult(statistic=array([1.00669887]), pvalue=array([0.3140887]))"
      ]
     },
     "execution_count": 122,
     "metadata": {},
     "output_type": "execute_result"
    }
   ],
   "source": [
    "# TODO\n",
    "sp.ttest_ind(time_array_motorcycle, time_array_bicycle)"
   ]
  },
  {
   "cell_type": "code",
   "execution_count": 123,
   "metadata": {},
   "outputs": [
    {
     "name": "stdout",
     "output_type": "stream",
     "text": [
      "27.60567429544165\n",
      "26.426470588235293\n"
     ]
    }
   ],
   "source": [
    "print(time_array_motorcycle.mean())\n",
    "print(time_array_bicycle.mean())\n",
    "print()"
   ]
  },
  {
   "cell_type": "code",
   "execution_count": 127,
   "metadata": {},
   "outputs": [
    {
     "data": {
      "text/plain": [
       "TtestResult(statistic=array([1.715031]), pvalue=array([0.09096156]), df=array([67]))"
      ]
     },
     "execution_count": 127,
     "metadata": {},
     "output_type": "execute_result"
    }
   ],
   "source": [
    "sp.ttest_1samp(time_array_bicycle, 24.5)"
   ]
  },
  {
   "cell_type": "code",
   "execution_count": null,
   "metadata": {},
   "outputs": [],
   "source": []
  }
 ],
 "metadata": {
  "colab": {
   "provenance": []
  },
  "kernelspec": {
   "display_name": "Python 3 (ipykernel)",
   "language": "python",
   "name": "python3"
  },
  "language_info": {
   "codemirror_mode": {
    "name": "ipython",
    "version": 3
   },
   "file_extension": ".py",
   "mimetype": "text/x-python",
   "name": "python",
   "nbconvert_exporter": "python",
   "pygments_lexer": "ipython3",
   "version": "3.11.4"
  }
 },
 "nbformat": 4,
 "nbformat_minor": 1
}
